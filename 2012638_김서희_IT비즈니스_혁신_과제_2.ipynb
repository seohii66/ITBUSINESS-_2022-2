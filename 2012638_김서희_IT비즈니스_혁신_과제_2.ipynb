{
  "nbformat": 4,
  "nbformat_minor": 0,
  "metadata": {
    "colab": {
      "provenance": [],
      "authorship_tag": "ABX9TyNtE+S0spd5bS5GpVAYh1vE",
      "include_colab_link": true
    },
    "kernelspec": {
      "name": "python3",
      "display_name": "Python 3"
    },
    "language_info": {
      "name": "python"
    }
  },
  "cells": [
    {
      "cell_type": "markdown",
      "metadata": {
        "id": "view-in-github",
        "colab_type": "text"
      },
      "source": [
        "<a href=\"https://colab.research.google.com/github/seohii66/ITBUSINESS-_2022-2/blob/main/2012638_%EA%B9%80%EC%84%9C%ED%9D%AC_IT%EB%B9%84%EC%A6%88%EB%8B%88%EC%8A%A4_%ED%98%81%EC%8B%A0_%EA%B3%BC%EC%A0%9C_2.ipynb\" target=\"_parent\"><img src=\"https://colab.research.google.com/assets/colab-badge.svg\" alt=\"Open In Colab\"/></a>"
      ]
    },
    {
      "cell_type": "code",
      "execution_count": null,
      "metadata": {
        "colab": {
          "base_uri": "https://localhost:8080/"
        },
        "id": "S5SECk6pczq1",
        "outputId": "a2463870-f354-4de0-82bb-74a6cb6b92ac"
      },
      "outputs": [
        {
          "output_type": "stream",
          "name": "stdout",
          "text": [
            "Looking in indexes: https://pypi.org/simple, https://us-python.pkg.dev/colab-wheels/public/simple/\n",
            "Collecting mglearn\n",
            "  Downloading mglearn-0.1.9.tar.gz (540 kB)\n",
            "\u001b[K     |████████████████████████████████| 540 kB 5.1 MB/s \n",
            "\u001b[?25hRequirement already satisfied: numpy in /usr/local/lib/python3.7/dist-packages (from mglearn) (1.21.6)\n",
            "Requirement already satisfied: matplotlib in /usr/local/lib/python3.7/dist-packages (from mglearn) (3.2.2)\n",
            "Requirement already satisfied: scikit-learn in /usr/local/lib/python3.7/dist-packages (from mglearn) (1.0.2)\n",
            "Requirement already satisfied: pandas in /usr/local/lib/python3.7/dist-packages (from mglearn) (1.3.5)\n",
            "Requirement already satisfied: pillow in /usr/local/lib/python3.7/dist-packages (from mglearn) (7.1.2)\n",
            "Requirement already satisfied: cycler in /usr/local/lib/python3.7/dist-packages (from mglearn) (0.11.0)\n",
            "Requirement already satisfied: imageio in /usr/local/lib/python3.7/dist-packages (from mglearn) (2.9.0)\n",
            "Requirement already satisfied: joblib in /usr/local/lib/python3.7/dist-packages (from mglearn) (1.2.0)\n",
            "Requirement already satisfied: python-dateutil>=2.1 in /usr/local/lib/python3.7/dist-packages (from matplotlib->mglearn) (2.8.2)\n",
            "Requirement already satisfied: pyparsing!=2.0.4,!=2.1.2,!=2.1.6,>=2.0.1 in /usr/local/lib/python3.7/dist-packages (from matplotlib->mglearn) (3.0.9)\n",
            "Requirement already satisfied: kiwisolver>=1.0.1 in /usr/local/lib/python3.7/dist-packages (from matplotlib->mglearn) (1.4.4)\n",
            "Requirement already satisfied: typing-extensions in /usr/local/lib/python3.7/dist-packages (from kiwisolver>=1.0.1->matplotlib->mglearn) (4.1.1)\n",
            "Requirement already satisfied: six>=1.5 in /usr/local/lib/python3.7/dist-packages (from python-dateutil>=2.1->matplotlib->mglearn) (1.15.0)\n",
            "Requirement already satisfied: pytz>=2017.3 in /usr/local/lib/python3.7/dist-packages (from pandas->mglearn) (2022.6)\n",
            "Requirement already satisfied: threadpoolctl>=2.0.0 in /usr/local/lib/python3.7/dist-packages (from scikit-learn->mglearn) (3.1.0)\n",
            "Requirement already satisfied: scipy>=1.1.0 in /usr/local/lib/python3.7/dist-packages (from scikit-learn->mglearn) (1.7.3)\n",
            "Building wheels for collected packages: mglearn\n",
            "  Building wheel for mglearn (setup.py) ... \u001b[?25l\u001b[?25hdone\n",
            "  Created wheel for mglearn: filename=mglearn-0.1.9-py2.py3-none-any.whl size=582637 sha256=98361716bcb969c34de8a337b3093b08e4571661e0857581c920a00487ede177\n",
            "  Stored in directory: /root/.cache/pip/wheels/f1/17/e1/1720d6dcd70187b6b6c3750cb3508798f2b1d57c9d3214b08b\n",
            "Successfully built mglearn\n",
            "Installing collected packages: mglearn\n",
            "Successfully installed mglearn-0.1.9\n"
          ]
        }
      ],
      "source": [
        "!pip install mglearn "
      ]
    },
    {
      "cell_type": "code",
      "source": [
        "!pip install --upgrade joblib==1.1.0"
      ],
      "metadata": {
        "colab": {
          "base_uri": "https://localhost:8080/"
        },
        "id": "7_9HQVluc7t5",
        "outputId": "325e85ca-65c6-42c2-fc94-29d597537e32"
      },
      "execution_count": null,
      "outputs": [
        {
          "output_type": "stream",
          "name": "stdout",
          "text": [
            "Looking in indexes: https://pypi.org/simple, https://us-python.pkg.dev/colab-wheels/public/simple/\n",
            "Collecting joblib==1.1.0\n",
            "  Downloading joblib-1.1.0-py2.py3-none-any.whl (306 kB)\n",
            "\u001b[K     |████████████████████████████████| 306 kB 5.3 MB/s \n",
            "\u001b[?25hInstalling collected packages: joblib\n",
            "  Attempting uninstall: joblib\n",
            "    Found existing installation: joblib 1.2.0\n",
            "    Uninstalling joblib-1.2.0:\n",
            "      Successfully uninstalled joblib-1.2.0\n",
            "Successfully installed joblib-1.1.0\n"
          ]
        }
      ]
    },
    {
      "cell_type": "markdown",
      "source": [],
      "metadata": {
        "id": "oUlp4YwlcCxX"
      }
    },
    {
      "cell_type": "code",
      "source": [
        "import mglearn"
      ],
      "metadata": {
        "id": "wTLa-tdxc-hX"
      },
      "execution_count": null,
      "outputs": []
    },
    {
      "cell_type": "code",
      "source": [
        "%matplotlib inline\n",
        "import pandas as pd\n",
        "import seaborn as sns           # Seaborn 로딩하기\n",
        "import matplotlib.pyplot as plt # Matplotlib의 pyplot 로딩하기import pandas as pd\n",
        "import numpy as np"
      ],
      "metadata": {
        "id": "UXQjiHc3dFM8"
      },
      "execution_count": null,
      "outputs": []
    },
    {
      "cell_type": "code",
      "source": [
        "fpath = \"https://raw.githubusercontent.com/seohii66/ITBUSINESS-_2022-2/main/health_data.csv\"\n",
        "df = pd.read_csv(fpath)\n",
        "\n",
        "# 한글로 되어있는 칼럼명들을 모두 영어로 재정의해주었다.\n",
        "df. columns = ['SEX','AGE','HEIGHT_OLD','WEIGHT','WAIST','C_PRES','E_PRES','TOT_COL','HDL','LDL','AST','ALT','GAMMA','SMOKE','DRINK','BMI','HEIGHT']\n",
        "\n",
        "print(type(df))\n"
      ],
      "metadata": {
        "colab": {
          "base_uri": "https://localhost:8080/"
        },
        "id": "8h6-_ox4dCLF",
        "outputId": "74e08516-4b92-4458-bde8-3119cf9908ba"
      },
      "execution_count": null,
      "outputs": [
        {
          "output_type": "stream",
          "name": "stdout",
          "text": [
            "<class 'pandas.core.frame.DataFrame'>\n"
          ]
        }
      ]
    },
    {
      "cell_type": "code",
      "source": [
        "print(df.columns)\n",
        "display(df.info())      \n",
        "display(df.head())      \n",
        "df.describe()"
      ],
      "metadata": {
        "colab": {
          "base_uri": "https://localhost:8080/",
          "height": 1000
        },
        "id": "X_ba7SP9dUFX",
        "outputId": "8be38a88-a058-469a-ca1c-1161e5470dd0"
      },
      "execution_count": null,
      "outputs": [
        {
          "output_type": "stream",
          "name": "stdout",
          "text": [
            "Index(['SEX', 'AGE', 'HEIGHT_OLD', 'WEIGHT', 'WAIST', 'C_PRES', 'E_PRES',\n",
            "       'TOT_COL', 'HDL', 'LDL', 'AST', 'ALT', 'GAMMA', 'SMOKE', 'DRINK', 'BMI',\n",
            "       'HEIGHT'],\n",
            "      dtype='object')\n",
            "<class 'pandas.core.frame.DataFrame'>\n",
            "RangeIndex: 10004 entries, 0 to 10003\n",
            "Data columns (total 17 columns):\n",
            " #   Column      Non-Null Count  Dtype  \n",
            "---  ------      --------------  -----  \n",
            " 0   SEX         10000 non-null  object \n",
            " 1   AGE         10000 non-null  float64\n",
            " 2   HEIGHT_OLD  10000 non-null  float64\n",
            " 3   WEIGHT      10000 non-null  float64\n",
            " 4   WAIST       10000 non-null  float64\n",
            " 5   C_PRES      9912 non-null   float64\n",
            " 6   E_PRES      9912 non-null   float64\n",
            " 7   TOT_COL     4044 non-null   float64\n",
            " 8   HDL         4044 non-null   float64\n",
            " 9   LDL         3977 non-null   float64\n",
            " 10  AST         9912 non-null   float64\n",
            " 11  ALT         9912 non-null   float64\n",
            " 12  GAMMA       9912 non-null   float64\n",
            " 13  SMOKE       9998 non-null   object \n",
            " 14  DRINK       9999 non-null   object \n",
            " 15  BMI         10000 non-null  float64\n",
            " 16  HEIGHT      10000 non-null  float64\n",
            "dtypes: float64(14), object(3)\n",
            "memory usage: 1.3+ MB\n"
          ]
        },
        {
          "output_type": "display_data",
          "data": {
            "text/plain": [
              "None"
            ]
          },
          "metadata": {}
        },
        {
          "output_type": "display_data",
          "data": {
            "text/plain": [
              "  SEX   AGE  HEIGHT_OLD  WEIGHT  WAIST  C_PRES  E_PRES  TOT_COL   HDL    LDL  \\\n",
              "0   M   9.0       165.0    60.0   72.1   127.0    79.0    188.0  58.0  118.0   \n",
              "1   F  13.0       150.0    65.0   81.0   110.0    73.0      NaN   NaN    NaN   \n",
              "2   F  12.0       155.0    55.0   70.0   123.0    80.0      NaN   NaN    NaN   \n",
              "3   M  13.0       160.0    70.0   90.8   134.0    84.0      NaN   NaN    NaN   \n",
              "4   F  12.0       155.0    50.0   75.2   144.0    89.0    220.0  53.0  133.0   \n",
              "\n",
              "    AST   ALT  GAMMA SMOKE DRINK        BMI  HEIGHT  \n",
              "0  21.0  27.0   21.0    No    No  22.038567    1.65  \n",
              "1  18.0  15.0   15.0    No    No  28.888889    1.50  \n",
              "2  27.0  25.0    7.0    No    No  22.892820    1.55  \n",
              "3  65.0  97.0   72.0    No    No  27.343750    1.60  \n",
              "4  18.0  17.0   14.0    No    No  20.811655    1.55  "
            ],
            "text/html": [
              "\n",
              "  <div id=\"df-f70479e7-baf4-48a8-bc8d-ad29ba57b43c\">\n",
              "    <div class=\"colab-df-container\">\n",
              "      <div>\n",
              "<style scoped>\n",
              "    .dataframe tbody tr th:only-of-type {\n",
              "        vertical-align: middle;\n",
              "    }\n",
              "\n",
              "    .dataframe tbody tr th {\n",
              "        vertical-align: top;\n",
              "    }\n",
              "\n",
              "    .dataframe thead th {\n",
              "        text-align: right;\n",
              "    }\n",
              "</style>\n",
              "<table border=\"1\" class=\"dataframe\">\n",
              "  <thead>\n",
              "    <tr style=\"text-align: right;\">\n",
              "      <th></th>\n",
              "      <th>SEX</th>\n",
              "      <th>AGE</th>\n",
              "      <th>HEIGHT_OLD</th>\n",
              "      <th>WEIGHT</th>\n",
              "      <th>WAIST</th>\n",
              "      <th>C_PRES</th>\n",
              "      <th>E_PRES</th>\n",
              "      <th>TOT_COL</th>\n",
              "      <th>HDL</th>\n",
              "      <th>LDL</th>\n",
              "      <th>AST</th>\n",
              "      <th>ALT</th>\n",
              "      <th>GAMMA</th>\n",
              "      <th>SMOKE</th>\n",
              "      <th>DRINK</th>\n",
              "      <th>BMI</th>\n",
              "      <th>HEIGHT</th>\n",
              "    </tr>\n",
              "  </thead>\n",
              "  <tbody>\n",
              "    <tr>\n",
              "      <th>0</th>\n",
              "      <td>M</td>\n",
              "      <td>9.0</td>\n",
              "      <td>165.0</td>\n",
              "      <td>60.0</td>\n",
              "      <td>72.1</td>\n",
              "      <td>127.0</td>\n",
              "      <td>79.0</td>\n",
              "      <td>188.0</td>\n",
              "      <td>58.0</td>\n",
              "      <td>118.0</td>\n",
              "      <td>21.0</td>\n",
              "      <td>27.0</td>\n",
              "      <td>21.0</td>\n",
              "      <td>No</td>\n",
              "      <td>No</td>\n",
              "      <td>22.038567</td>\n",
              "      <td>1.65</td>\n",
              "    </tr>\n",
              "    <tr>\n",
              "      <th>1</th>\n",
              "      <td>F</td>\n",
              "      <td>13.0</td>\n",
              "      <td>150.0</td>\n",
              "      <td>65.0</td>\n",
              "      <td>81.0</td>\n",
              "      <td>110.0</td>\n",
              "      <td>73.0</td>\n",
              "      <td>NaN</td>\n",
              "      <td>NaN</td>\n",
              "      <td>NaN</td>\n",
              "      <td>18.0</td>\n",
              "      <td>15.0</td>\n",
              "      <td>15.0</td>\n",
              "      <td>No</td>\n",
              "      <td>No</td>\n",
              "      <td>28.888889</td>\n",
              "      <td>1.50</td>\n",
              "    </tr>\n",
              "    <tr>\n",
              "      <th>2</th>\n",
              "      <td>F</td>\n",
              "      <td>12.0</td>\n",
              "      <td>155.0</td>\n",
              "      <td>55.0</td>\n",
              "      <td>70.0</td>\n",
              "      <td>123.0</td>\n",
              "      <td>80.0</td>\n",
              "      <td>NaN</td>\n",
              "      <td>NaN</td>\n",
              "      <td>NaN</td>\n",
              "      <td>27.0</td>\n",
              "      <td>25.0</td>\n",
              "      <td>7.0</td>\n",
              "      <td>No</td>\n",
              "      <td>No</td>\n",
              "      <td>22.892820</td>\n",
              "      <td>1.55</td>\n",
              "    </tr>\n",
              "    <tr>\n",
              "      <th>3</th>\n",
              "      <td>M</td>\n",
              "      <td>13.0</td>\n",
              "      <td>160.0</td>\n",
              "      <td>70.0</td>\n",
              "      <td>90.8</td>\n",
              "      <td>134.0</td>\n",
              "      <td>84.0</td>\n",
              "      <td>NaN</td>\n",
              "      <td>NaN</td>\n",
              "      <td>NaN</td>\n",
              "      <td>65.0</td>\n",
              "      <td>97.0</td>\n",
              "      <td>72.0</td>\n",
              "      <td>No</td>\n",
              "      <td>No</td>\n",
              "      <td>27.343750</td>\n",
              "      <td>1.60</td>\n",
              "    </tr>\n",
              "    <tr>\n",
              "      <th>4</th>\n",
              "      <td>F</td>\n",
              "      <td>12.0</td>\n",
              "      <td>155.0</td>\n",
              "      <td>50.0</td>\n",
              "      <td>75.2</td>\n",
              "      <td>144.0</td>\n",
              "      <td>89.0</td>\n",
              "      <td>220.0</td>\n",
              "      <td>53.0</td>\n",
              "      <td>133.0</td>\n",
              "      <td>18.0</td>\n",
              "      <td>17.0</td>\n",
              "      <td>14.0</td>\n",
              "      <td>No</td>\n",
              "      <td>No</td>\n",
              "      <td>20.811655</td>\n",
              "      <td>1.55</td>\n",
              "    </tr>\n",
              "  </tbody>\n",
              "</table>\n",
              "</div>\n",
              "      <button class=\"colab-df-convert\" onclick=\"convertToInteractive('df-f70479e7-baf4-48a8-bc8d-ad29ba57b43c')\"\n",
              "              title=\"Convert this dataframe to an interactive table.\"\n",
              "              style=\"display:none;\">\n",
              "        \n",
              "  <svg xmlns=\"http://www.w3.org/2000/svg\" height=\"24px\"viewBox=\"0 0 24 24\"\n",
              "       width=\"24px\">\n",
              "    <path d=\"M0 0h24v24H0V0z\" fill=\"none\"/>\n",
              "    <path d=\"M18.56 5.44l.94 2.06.94-2.06 2.06-.94-2.06-.94-.94-2.06-.94 2.06-2.06.94zm-11 1L8.5 8.5l.94-2.06 2.06-.94-2.06-.94L8.5 2.5l-.94 2.06-2.06.94zm10 10l.94 2.06.94-2.06 2.06-.94-2.06-.94-.94-2.06-.94 2.06-2.06.94z\"/><path d=\"M17.41 7.96l-1.37-1.37c-.4-.4-.92-.59-1.43-.59-.52 0-1.04.2-1.43.59L10.3 9.45l-7.72 7.72c-.78.78-.78 2.05 0 2.83L4 21.41c.39.39.9.59 1.41.59.51 0 1.02-.2 1.41-.59l7.78-7.78 2.81-2.81c.8-.78.8-2.07 0-2.86zM5.41 20L4 18.59l7.72-7.72 1.47 1.35L5.41 20z\"/>\n",
              "  </svg>\n",
              "      </button>\n",
              "      \n",
              "  <style>\n",
              "    .colab-df-container {\n",
              "      display:flex;\n",
              "      flex-wrap:wrap;\n",
              "      gap: 12px;\n",
              "    }\n",
              "\n",
              "    .colab-df-convert {\n",
              "      background-color: #E8F0FE;\n",
              "      border: none;\n",
              "      border-radius: 50%;\n",
              "      cursor: pointer;\n",
              "      display: none;\n",
              "      fill: #1967D2;\n",
              "      height: 32px;\n",
              "      padding: 0 0 0 0;\n",
              "      width: 32px;\n",
              "    }\n",
              "\n",
              "    .colab-df-convert:hover {\n",
              "      background-color: #E2EBFA;\n",
              "      box-shadow: 0px 1px 2px rgba(60, 64, 67, 0.3), 0px 1px 3px 1px rgba(60, 64, 67, 0.15);\n",
              "      fill: #174EA6;\n",
              "    }\n",
              "\n",
              "    [theme=dark] .colab-df-convert {\n",
              "      background-color: #3B4455;\n",
              "      fill: #D2E3FC;\n",
              "    }\n",
              "\n",
              "    [theme=dark] .colab-df-convert:hover {\n",
              "      background-color: #434B5C;\n",
              "      box-shadow: 0px 1px 3px 1px rgba(0, 0, 0, 0.15);\n",
              "      filter: drop-shadow(0px 1px 2px rgba(0, 0, 0, 0.3));\n",
              "      fill: #FFFFFF;\n",
              "    }\n",
              "  </style>\n",
              "\n",
              "      <script>\n",
              "        const buttonEl =\n",
              "          document.querySelector('#df-f70479e7-baf4-48a8-bc8d-ad29ba57b43c button.colab-df-convert');\n",
              "        buttonEl.style.display =\n",
              "          google.colab.kernel.accessAllowed ? 'block' : 'none';\n",
              "\n",
              "        async function convertToInteractive(key) {\n",
              "          const element = document.querySelector('#df-f70479e7-baf4-48a8-bc8d-ad29ba57b43c');\n",
              "          const dataTable =\n",
              "            await google.colab.kernel.invokeFunction('convertToInteractive',\n",
              "                                                     [key], {});\n",
              "          if (!dataTable) return;\n",
              "\n",
              "          const docLinkHtml = 'Like what you see? Visit the ' +\n",
              "            '<a target=\"_blank\" href=https://colab.research.google.com/notebooks/data_table.ipynb>data table notebook</a>'\n",
              "            + ' to learn more about interactive tables.';\n",
              "          element.innerHTML = '';\n",
              "          dataTable['output_type'] = 'display_data';\n",
              "          await google.colab.output.renderOutput(dataTable, element);\n",
              "          const docLink = document.createElement('div');\n",
              "          docLink.innerHTML = docLinkHtml;\n",
              "          element.appendChild(docLink);\n",
              "        }\n",
              "      </script>\n",
              "    </div>\n",
              "  </div>\n",
              "  "
            ]
          },
          "metadata": {}
        },
        {
          "output_type": "execute_result",
          "data": {
            "text/plain": [
              "                AGE    HEIGHT_OLD        WEIGHT         WAIST       C_PRES  \\\n",
              "count  10000.000000  10000.000000  10000.000000  10000.000000  9912.000000   \n",
              "mean      11.931400    160.983500     63.034500     82.366100   124.669693   \n",
              "std        2.166048      9.211608     12.205294      9.561973    14.629865   \n",
              "min        9.000000    130.000000     30.000000     53.000000    77.000000   \n",
              "25%       10.000000    155.000000     55.000000     76.000000   115.000000   \n",
              "50%       12.000000    160.000000     60.000000     82.000000   124.000000   \n",
              "75%       13.000000    170.000000     70.000000     88.900000   134.000000   \n",
              "max       18.000000    195.000000    130.000000    134.000000   200.000000   \n",
              "\n",
              "            E_PRES      TOT_COL          HDL          LDL         AST  \\\n",
              "count  9912.000000  4044.000000  4044.000000  3977.000000  9912.00000   \n",
              "mean     76.789750   198.269041    56.158309   116.263264    27.58979   \n",
              "std       9.931527    41.945872    14.484780    37.829955    17.88442   \n",
              "min      40.000000    70.000000    19.000000    13.000000     3.00000   \n",
              "25%      70.000000   169.000000    46.000000    89.000000    20.00000   \n",
              "50%      77.000000   197.000000    54.000000   115.000000    24.00000   \n",
              "75%      83.000000   225.000000    65.000000   141.000000    30.00000   \n",
              "max     130.000000   387.000000   125.000000   297.000000   692.00000   \n",
              "\n",
              "               ALT        GAMMA           BMI        HEIGHT  \n",
              "count  9912.000000  9912.000000  10000.000000  10000.000000  \n",
              "mean     26.789851    38.098668     24.204238      1.609835  \n",
              "std      23.735687    58.184579      3.487853      0.092116  \n",
              "min       2.000000     3.000000     13.333333      1.300000  \n",
              "25%      16.000000    16.000000     22.038567      1.550000  \n",
              "50%      21.000000    24.000000     23.875115      1.600000  \n",
              "75%      31.000000    39.000000     26.122449      1.700000  \n",
              "max    1146.000000  2322.000000     43.704475      1.950000  "
            ],
            "text/html": [
              "\n",
              "  <div id=\"df-3f04396f-67c4-4760-9184-cdedba3bb87c\">\n",
              "    <div class=\"colab-df-container\">\n",
              "      <div>\n",
              "<style scoped>\n",
              "    .dataframe tbody tr th:only-of-type {\n",
              "        vertical-align: middle;\n",
              "    }\n",
              "\n",
              "    .dataframe tbody tr th {\n",
              "        vertical-align: top;\n",
              "    }\n",
              "\n",
              "    .dataframe thead th {\n",
              "        text-align: right;\n",
              "    }\n",
              "</style>\n",
              "<table border=\"1\" class=\"dataframe\">\n",
              "  <thead>\n",
              "    <tr style=\"text-align: right;\">\n",
              "      <th></th>\n",
              "      <th>AGE</th>\n",
              "      <th>HEIGHT_OLD</th>\n",
              "      <th>WEIGHT</th>\n",
              "      <th>WAIST</th>\n",
              "      <th>C_PRES</th>\n",
              "      <th>E_PRES</th>\n",
              "      <th>TOT_COL</th>\n",
              "      <th>HDL</th>\n",
              "      <th>LDL</th>\n",
              "      <th>AST</th>\n",
              "      <th>ALT</th>\n",
              "      <th>GAMMA</th>\n",
              "      <th>BMI</th>\n",
              "      <th>HEIGHT</th>\n",
              "    </tr>\n",
              "  </thead>\n",
              "  <tbody>\n",
              "    <tr>\n",
              "      <th>count</th>\n",
              "      <td>10000.000000</td>\n",
              "      <td>10000.000000</td>\n",
              "      <td>10000.000000</td>\n",
              "      <td>10000.000000</td>\n",
              "      <td>9912.000000</td>\n",
              "      <td>9912.000000</td>\n",
              "      <td>4044.000000</td>\n",
              "      <td>4044.000000</td>\n",
              "      <td>3977.000000</td>\n",
              "      <td>9912.00000</td>\n",
              "      <td>9912.000000</td>\n",
              "      <td>9912.000000</td>\n",
              "      <td>10000.000000</td>\n",
              "      <td>10000.000000</td>\n",
              "    </tr>\n",
              "    <tr>\n",
              "      <th>mean</th>\n",
              "      <td>11.931400</td>\n",
              "      <td>160.983500</td>\n",
              "      <td>63.034500</td>\n",
              "      <td>82.366100</td>\n",
              "      <td>124.669693</td>\n",
              "      <td>76.789750</td>\n",
              "      <td>198.269041</td>\n",
              "      <td>56.158309</td>\n",
              "      <td>116.263264</td>\n",
              "      <td>27.58979</td>\n",
              "      <td>26.789851</td>\n",
              "      <td>38.098668</td>\n",
              "      <td>24.204238</td>\n",
              "      <td>1.609835</td>\n",
              "    </tr>\n",
              "    <tr>\n",
              "      <th>std</th>\n",
              "      <td>2.166048</td>\n",
              "      <td>9.211608</td>\n",
              "      <td>12.205294</td>\n",
              "      <td>9.561973</td>\n",
              "      <td>14.629865</td>\n",
              "      <td>9.931527</td>\n",
              "      <td>41.945872</td>\n",
              "      <td>14.484780</td>\n",
              "      <td>37.829955</td>\n",
              "      <td>17.88442</td>\n",
              "      <td>23.735687</td>\n",
              "      <td>58.184579</td>\n",
              "      <td>3.487853</td>\n",
              "      <td>0.092116</td>\n",
              "    </tr>\n",
              "    <tr>\n",
              "      <th>min</th>\n",
              "      <td>9.000000</td>\n",
              "      <td>130.000000</td>\n",
              "      <td>30.000000</td>\n",
              "      <td>53.000000</td>\n",
              "      <td>77.000000</td>\n",
              "      <td>40.000000</td>\n",
              "      <td>70.000000</td>\n",
              "      <td>19.000000</td>\n",
              "      <td>13.000000</td>\n",
              "      <td>3.00000</td>\n",
              "      <td>2.000000</td>\n",
              "      <td>3.000000</td>\n",
              "      <td>13.333333</td>\n",
              "      <td>1.300000</td>\n",
              "    </tr>\n",
              "    <tr>\n",
              "      <th>25%</th>\n",
              "      <td>10.000000</td>\n",
              "      <td>155.000000</td>\n",
              "      <td>55.000000</td>\n",
              "      <td>76.000000</td>\n",
              "      <td>115.000000</td>\n",
              "      <td>70.000000</td>\n",
              "      <td>169.000000</td>\n",
              "      <td>46.000000</td>\n",
              "      <td>89.000000</td>\n",
              "      <td>20.00000</td>\n",
              "      <td>16.000000</td>\n",
              "      <td>16.000000</td>\n",
              "      <td>22.038567</td>\n",
              "      <td>1.550000</td>\n",
              "    </tr>\n",
              "    <tr>\n",
              "      <th>50%</th>\n",
              "      <td>12.000000</td>\n",
              "      <td>160.000000</td>\n",
              "      <td>60.000000</td>\n",
              "      <td>82.000000</td>\n",
              "      <td>124.000000</td>\n",
              "      <td>77.000000</td>\n",
              "      <td>197.000000</td>\n",
              "      <td>54.000000</td>\n",
              "      <td>115.000000</td>\n",
              "      <td>24.00000</td>\n",
              "      <td>21.000000</td>\n",
              "      <td>24.000000</td>\n",
              "      <td>23.875115</td>\n",
              "      <td>1.600000</td>\n",
              "    </tr>\n",
              "    <tr>\n",
              "      <th>75%</th>\n",
              "      <td>13.000000</td>\n",
              "      <td>170.000000</td>\n",
              "      <td>70.000000</td>\n",
              "      <td>88.900000</td>\n",
              "      <td>134.000000</td>\n",
              "      <td>83.000000</td>\n",
              "      <td>225.000000</td>\n",
              "      <td>65.000000</td>\n",
              "      <td>141.000000</td>\n",
              "      <td>30.00000</td>\n",
              "      <td>31.000000</td>\n",
              "      <td>39.000000</td>\n",
              "      <td>26.122449</td>\n",
              "      <td>1.700000</td>\n",
              "    </tr>\n",
              "    <tr>\n",
              "      <th>max</th>\n",
              "      <td>18.000000</td>\n",
              "      <td>195.000000</td>\n",
              "      <td>130.000000</td>\n",
              "      <td>134.000000</td>\n",
              "      <td>200.000000</td>\n",
              "      <td>130.000000</td>\n",
              "      <td>387.000000</td>\n",
              "      <td>125.000000</td>\n",
              "      <td>297.000000</td>\n",
              "      <td>692.00000</td>\n",
              "      <td>1146.000000</td>\n",
              "      <td>2322.000000</td>\n",
              "      <td>43.704475</td>\n",
              "      <td>1.950000</td>\n",
              "    </tr>\n",
              "  </tbody>\n",
              "</table>\n",
              "</div>\n",
              "      <button class=\"colab-df-convert\" onclick=\"convertToInteractive('df-3f04396f-67c4-4760-9184-cdedba3bb87c')\"\n",
              "              title=\"Convert this dataframe to an interactive table.\"\n",
              "              style=\"display:none;\">\n",
              "        \n",
              "  <svg xmlns=\"http://www.w3.org/2000/svg\" height=\"24px\"viewBox=\"0 0 24 24\"\n",
              "       width=\"24px\">\n",
              "    <path d=\"M0 0h24v24H0V0z\" fill=\"none\"/>\n",
              "    <path d=\"M18.56 5.44l.94 2.06.94-2.06 2.06-.94-2.06-.94-.94-2.06-.94 2.06-2.06.94zm-11 1L8.5 8.5l.94-2.06 2.06-.94-2.06-.94L8.5 2.5l-.94 2.06-2.06.94zm10 10l.94 2.06.94-2.06 2.06-.94-2.06-.94-.94-2.06-.94 2.06-2.06.94z\"/><path d=\"M17.41 7.96l-1.37-1.37c-.4-.4-.92-.59-1.43-.59-.52 0-1.04.2-1.43.59L10.3 9.45l-7.72 7.72c-.78.78-.78 2.05 0 2.83L4 21.41c.39.39.9.59 1.41.59.51 0 1.02-.2 1.41-.59l7.78-7.78 2.81-2.81c.8-.78.8-2.07 0-2.86zM5.41 20L4 18.59l7.72-7.72 1.47 1.35L5.41 20z\"/>\n",
              "  </svg>\n",
              "      </button>\n",
              "      \n",
              "  <style>\n",
              "    .colab-df-container {\n",
              "      display:flex;\n",
              "      flex-wrap:wrap;\n",
              "      gap: 12px;\n",
              "    }\n",
              "\n",
              "    .colab-df-convert {\n",
              "      background-color: #E8F0FE;\n",
              "      border: none;\n",
              "      border-radius: 50%;\n",
              "      cursor: pointer;\n",
              "      display: none;\n",
              "      fill: #1967D2;\n",
              "      height: 32px;\n",
              "      padding: 0 0 0 0;\n",
              "      width: 32px;\n",
              "    }\n",
              "\n",
              "    .colab-df-convert:hover {\n",
              "      background-color: #E2EBFA;\n",
              "      box-shadow: 0px 1px 2px rgba(60, 64, 67, 0.3), 0px 1px 3px 1px rgba(60, 64, 67, 0.15);\n",
              "      fill: #174EA6;\n",
              "    }\n",
              "\n",
              "    [theme=dark] .colab-df-convert {\n",
              "      background-color: #3B4455;\n",
              "      fill: #D2E3FC;\n",
              "    }\n",
              "\n",
              "    [theme=dark] .colab-df-convert:hover {\n",
              "      background-color: #434B5C;\n",
              "      box-shadow: 0px 1px 3px 1px rgba(0, 0, 0, 0.15);\n",
              "      filter: drop-shadow(0px 1px 2px rgba(0, 0, 0, 0.3));\n",
              "      fill: #FFFFFF;\n",
              "    }\n",
              "  </style>\n",
              "\n",
              "      <script>\n",
              "        const buttonEl =\n",
              "          document.querySelector('#df-3f04396f-67c4-4760-9184-cdedba3bb87c button.colab-df-convert');\n",
              "        buttonEl.style.display =\n",
              "          google.colab.kernel.accessAllowed ? 'block' : 'none';\n",
              "\n",
              "        async function convertToInteractive(key) {\n",
              "          const element = document.querySelector('#df-3f04396f-67c4-4760-9184-cdedba3bb87c');\n",
              "          const dataTable =\n",
              "            await google.colab.kernel.invokeFunction('convertToInteractive',\n",
              "                                                     [key], {});\n",
              "          if (!dataTable) return;\n",
              "\n",
              "          const docLinkHtml = 'Like what you see? Visit the ' +\n",
              "            '<a target=\"_blank\" href=https://colab.research.google.com/notebooks/data_table.ipynb>data table notebook</a>'\n",
              "            + ' to learn more about interactive tables.';\n",
              "          element.innerHTML = '';\n",
              "          dataTable['output_type'] = 'display_data';\n",
              "          await google.colab.output.renderOutput(dataTable, element);\n",
              "          const docLink = document.createElement('div');\n",
              "          docLink.innerHTML = docLinkHtml;\n",
              "          element.appendChild(docLink);\n",
              "        }\n",
              "      </script>\n",
              "    </div>\n",
              "  </div>\n",
              "  "
            ]
          },
          "metadata": {},
          "execution_count": 6
        }
      ]
    },
    {
      "cell_type": "markdown",
      "source": [
        "전처리 \n",
        "- 행의 값이 모두 NaN인 열들을 삭제"
      ],
      "metadata": {
        "id": "nJNtBCChgFCn"
      }
    },
    {
      "cell_type": "code",
      "source": [
        "df = df.dropna(axis = 0,how = 'all')\n",
        "df.info()\n",
        "df.isnull().sum()"
      ],
      "metadata": {
        "colab": {
          "base_uri": "https://localhost:8080/"
        },
        "id": "vHtMdLhGdu_Z",
        "outputId": "dc5803b1-5f56-4f3a-e0d8-3c0e19d54c9b"
      },
      "execution_count": null,
      "outputs": [
        {
          "output_type": "stream",
          "name": "stdout",
          "text": [
            "<class 'pandas.core.frame.DataFrame'>\n",
            "Int64Index: 10000 entries, 0 to 9999\n",
            "Data columns (total 17 columns):\n",
            " #   Column      Non-Null Count  Dtype  \n",
            "---  ------      --------------  -----  \n",
            " 0   SEX         10000 non-null  object \n",
            " 1   AGE         10000 non-null  float64\n",
            " 2   HEIGHT_OLD  10000 non-null  float64\n",
            " 3   WEIGHT      10000 non-null  float64\n",
            " 4   WAIST       10000 non-null  float64\n",
            " 5   C_PRES      9912 non-null   float64\n",
            " 6   E_PRES      9912 non-null   float64\n",
            " 7   TOT_COL     4044 non-null   float64\n",
            " 8   HDL         4044 non-null   float64\n",
            " 9   LDL         3977 non-null   float64\n",
            " 10  AST         9912 non-null   float64\n",
            " 11  ALT         9912 non-null   float64\n",
            " 12  GAMMA       9912 non-null   float64\n",
            " 13  SMOKE       9998 non-null   object \n",
            " 14  DRINK       9999 non-null   object \n",
            " 15  BMI         10000 non-null  float64\n",
            " 16  HEIGHT      10000 non-null  float64\n",
            "dtypes: float64(14), object(3)\n",
            "memory usage: 1.4+ MB\n"
          ]
        },
        {
          "output_type": "execute_result",
          "data": {
            "text/plain": [
              "SEX              0\n",
              "AGE              0\n",
              "HEIGHT_OLD       0\n",
              "WEIGHT           0\n",
              "WAIST            0\n",
              "C_PRES          88\n",
              "E_PRES          88\n",
              "TOT_COL       5956\n",
              "HDL           5956\n",
              "LDL           6023\n",
              "AST             88\n",
              "ALT             88\n",
              "GAMMA           88\n",
              "SMOKE            2\n",
              "DRINK            1\n",
              "BMI              0\n",
              "HEIGHT           0\n",
              "dtype: int64"
            ]
          },
          "metadata": {},
          "execution_count": 7
        }
      ]
    },
    {
      "cell_type": "code",
      "source": [
        "df.loc[(df['AGE'] < 2.0), 'Age_range'] = int(10)\n",
        "df.loc[(df['AGE'] >= 3.0)&(df['AGE'] < 5.0), 'Age_range'] =  int(10)\n",
        "df.loc[(df['AGE'] >=5.0)&(df['AGE'] <7.0), 'Age_range'] = int(20)\n",
        "df.loc[(df['AGE'] >=7.0)&(df['AGE'] < 9.0), 'Age_range'] =int(30)\n",
        "df.loc[(df['AGE'] >=9.0)&(df['AGE'] < 11.0), 'Age_range'] =int(40)\n",
        "df.loc[(df['AGE'] >=11.0)&(df['AGE'] < 13.0), 'Age_range'] = int(50)\n",
        "df.loc[(df['AGE'] >=13.0)&(df['AGE'] < 15.0), 'Age_range'] = int(60)\n",
        "df.loc[(df['AGE'] >=15.0)&(df['AGE'] < 17.0), 'Age_range'] = int(70)\n",
        "df.loc[(df['AGE'] >=17.0)&(df['AGE'] < 19.0), 'Age_range'] = int(80)"
      ],
      "metadata": {
        "id": "p1_uw6F8hbWh",
        "colab": {
          "base_uri": "https://localhost:8080/"
        },
        "outputId": "206962b0-c4cf-4249-b576-576066d4da49"
      },
      "execution_count": null,
      "outputs": [
        {
          "output_type": "stream",
          "name": "stderr",
          "text": [
            "/usr/local/lib/python3.7/dist-packages/pandas/core/indexing.py:1684: SettingWithCopyWarning: \n",
            "A value is trying to be set on a copy of a slice from a DataFrame.\n",
            "Try using .loc[row_indexer,col_indexer] = value instead\n",
            "\n",
            "See the caveats in the documentation: https://pandas.pydata.org/pandas-docs/stable/user_guide/indexing.html#returning-a-view-versus-a-copy\n",
            "  self.obj[key] = infer_fill_value(value)\n",
            "/usr/local/lib/python3.7/dist-packages/pandas/core/indexing.py:1817: SettingWithCopyWarning: \n",
            "A value is trying to be set on a copy of a slice from a DataFrame.\n",
            "Try using .loc[row_indexer,col_indexer] = value instead\n",
            "\n",
            "See the caveats in the documentation: https://pandas.pydata.org/pandas-docs/stable/user_guide/indexing.html#returning-a-view-versus-a-copy\n",
            "  self._setitem_single_column(loc, value, pi)\n"
          ]
        }
      ]
    },
    {
      "cell_type": "code",
      "source": [
        "display(df.head())      \n"
      ],
      "metadata": {
        "colab": {
          "base_uri": "https://localhost:8080/",
          "height": 270
        },
        "id": "P20P9wwoixzu",
        "outputId": "6855f7ba-c4cf-4a16-9edf-71ecc171fd40"
      },
      "execution_count": null,
      "outputs": [
        {
          "output_type": "display_data",
          "data": {
            "text/plain": [
              "  SEX   AGE  HEIGHT_OLD  WEIGHT  WAIST  C_PRES  E_PRES  TOT_COL   HDL    LDL  \\\n",
              "0   M   9.0       165.0    60.0   72.1   127.0    79.0    188.0  58.0  118.0   \n",
              "1   F  13.0       150.0    65.0   81.0   110.0    73.0      NaN   NaN    NaN   \n",
              "2   F  12.0       155.0    55.0   70.0   123.0    80.0      NaN   NaN    NaN   \n",
              "3   M  13.0       160.0    70.0   90.8   134.0    84.0      NaN   NaN    NaN   \n",
              "4   F  12.0       155.0    50.0   75.2   144.0    89.0    220.0  53.0  133.0   \n",
              "\n",
              "    AST   ALT  GAMMA SMOKE DRINK        BMI  HEIGHT  Age_range  \n",
              "0  21.0  27.0   21.0    No    No  22.038567    1.65       40.0  \n",
              "1  18.0  15.0   15.0    No    No  28.888889    1.50       60.0  \n",
              "2  27.0  25.0    7.0    No    No  22.892820    1.55       50.0  \n",
              "3  65.0  97.0   72.0    No    No  27.343750    1.60       60.0  \n",
              "4  18.0  17.0   14.0    No    No  20.811655    1.55       50.0  "
            ],
            "text/html": [
              "\n",
              "  <div id=\"df-f4d252b7-9b00-4d2c-941c-317d1b153006\">\n",
              "    <div class=\"colab-df-container\">\n",
              "      <div>\n",
              "<style scoped>\n",
              "    .dataframe tbody tr th:only-of-type {\n",
              "        vertical-align: middle;\n",
              "    }\n",
              "\n",
              "    .dataframe tbody tr th {\n",
              "        vertical-align: top;\n",
              "    }\n",
              "\n",
              "    .dataframe thead th {\n",
              "        text-align: right;\n",
              "    }\n",
              "</style>\n",
              "<table border=\"1\" class=\"dataframe\">\n",
              "  <thead>\n",
              "    <tr style=\"text-align: right;\">\n",
              "      <th></th>\n",
              "      <th>SEX</th>\n",
              "      <th>AGE</th>\n",
              "      <th>HEIGHT_OLD</th>\n",
              "      <th>WEIGHT</th>\n",
              "      <th>WAIST</th>\n",
              "      <th>C_PRES</th>\n",
              "      <th>E_PRES</th>\n",
              "      <th>TOT_COL</th>\n",
              "      <th>HDL</th>\n",
              "      <th>LDL</th>\n",
              "      <th>AST</th>\n",
              "      <th>ALT</th>\n",
              "      <th>GAMMA</th>\n",
              "      <th>SMOKE</th>\n",
              "      <th>DRINK</th>\n",
              "      <th>BMI</th>\n",
              "      <th>HEIGHT</th>\n",
              "      <th>Age_range</th>\n",
              "    </tr>\n",
              "  </thead>\n",
              "  <tbody>\n",
              "    <tr>\n",
              "      <th>0</th>\n",
              "      <td>M</td>\n",
              "      <td>9.0</td>\n",
              "      <td>165.0</td>\n",
              "      <td>60.0</td>\n",
              "      <td>72.1</td>\n",
              "      <td>127.0</td>\n",
              "      <td>79.0</td>\n",
              "      <td>188.0</td>\n",
              "      <td>58.0</td>\n",
              "      <td>118.0</td>\n",
              "      <td>21.0</td>\n",
              "      <td>27.0</td>\n",
              "      <td>21.0</td>\n",
              "      <td>No</td>\n",
              "      <td>No</td>\n",
              "      <td>22.038567</td>\n",
              "      <td>1.65</td>\n",
              "      <td>40.0</td>\n",
              "    </tr>\n",
              "    <tr>\n",
              "      <th>1</th>\n",
              "      <td>F</td>\n",
              "      <td>13.0</td>\n",
              "      <td>150.0</td>\n",
              "      <td>65.0</td>\n",
              "      <td>81.0</td>\n",
              "      <td>110.0</td>\n",
              "      <td>73.0</td>\n",
              "      <td>NaN</td>\n",
              "      <td>NaN</td>\n",
              "      <td>NaN</td>\n",
              "      <td>18.0</td>\n",
              "      <td>15.0</td>\n",
              "      <td>15.0</td>\n",
              "      <td>No</td>\n",
              "      <td>No</td>\n",
              "      <td>28.888889</td>\n",
              "      <td>1.50</td>\n",
              "      <td>60.0</td>\n",
              "    </tr>\n",
              "    <tr>\n",
              "      <th>2</th>\n",
              "      <td>F</td>\n",
              "      <td>12.0</td>\n",
              "      <td>155.0</td>\n",
              "      <td>55.0</td>\n",
              "      <td>70.0</td>\n",
              "      <td>123.0</td>\n",
              "      <td>80.0</td>\n",
              "      <td>NaN</td>\n",
              "      <td>NaN</td>\n",
              "      <td>NaN</td>\n",
              "      <td>27.0</td>\n",
              "      <td>25.0</td>\n",
              "      <td>7.0</td>\n",
              "      <td>No</td>\n",
              "      <td>No</td>\n",
              "      <td>22.892820</td>\n",
              "      <td>1.55</td>\n",
              "      <td>50.0</td>\n",
              "    </tr>\n",
              "    <tr>\n",
              "      <th>3</th>\n",
              "      <td>M</td>\n",
              "      <td>13.0</td>\n",
              "      <td>160.0</td>\n",
              "      <td>70.0</td>\n",
              "      <td>90.8</td>\n",
              "      <td>134.0</td>\n",
              "      <td>84.0</td>\n",
              "      <td>NaN</td>\n",
              "      <td>NaN</td>\n",
              "      <td>NaN</td>\n",
              "      <td>65.0</td>\n",
              "      <td>97.0</td>\n",
              "      <td>72.0</td>\n",
              "      <td>No</td>\n",
              "      <td>No</td>\n",
              "      <td>27.343750</td>\n",
              "      <td>1.60</td>\n",
              "      <td>60.0</td>\n",
              "    </tr>\n",
              "    <tr>\n",
              "      <th>4</th>\n",
              "      <td>F</td>\n",
              "      <td>12.0</td>\n",
              "      <td>155.0</td>\n",
              "      <td>50.0</td>\n",
              "      <td>75.2</td>\n",
              "      <td>144.0</td>\n",
              "      <td>89.0</td>\n",
              "      <td>220.0</td>\n",
              "      <td>53.0</td>\n",
              "      <td>133.0</td>\n",
              "      <td>18.0</td>\n",
              "      <td>17.0</td>\n",
              "      <td>14.0</td>\n",
              "      <td>No</td>\n",
              "      <td>No</td>\n",
              "      <td>20.811655</td>\n",
              "      <td>1.55</td>\n",
              "      <td>50.0</td>\n",
              "    </tr>\n",
              "  </tbody>\n",
              "</table>\n",
              "</div>\n",
              "      <button class=\"colab-df-convert\" onclick=\"convertToInteractive('df-f4d252b7-9b00-4d2c-941c-317d1b153006')\"\n",
              "              title=\"Convert this dataframe to an interactive table.\"\n",
              "              style=\"display:none;\">\n",
              "        \n",
              "  <svg xmlns=\"http://www.w3.org/2000/svg\" height=\"24px\"viewBox=\"0 0 24 24\"\n",
              "       width=\"24px\">\n",
              "    <path d=\"M0 0h24v24H0V0z\" fill=\"none\"/>\n",
              "    <path d=\"M18.56 5.44l.94 2.06.94-2.06 2.06-.94-2.06-.94-.94-2.06-.94 2.06-2.06.94zm-11 1L8.5 8.5l.94-2.06 2.06-.94-2.06-.94L8.5 2.5l-.94 2.06-2.06.94zm10 10l.94 2.06.94-2.06 2.06-.94-2.06-.94-.94-2.06-.94 2.06-2.06.94z\"/><path d=\"M17.41 7.96l-1.37-1.37c-.4-.4-.92-.59-1.43-.59-.52 0-1.04.2-1.43.59L10.3 9.45l-7.72 7.72c-.78.78-.78 2.05 0 2.83L4 21.41c.39.39.9.59 1.41.59.51 0 1.02-.2 1.41-.59l7.78-7.78 2.81-2.81c.8-.78.8-2.07 0-2.86zM5.41 20L4 18.59l7.72-7.72 1.47 1.35L5.41 20z\"/>\n",
              "  </svg>\n",
              "      </button>\n",
              "      \n",
              "  <style>\n",
              "    .colab-df-container {\n",
              "      display:flex;\n",
              "      flex-wrap:wrap;\n",
              "      gap: 12px;\n",
              "    }\n",
              "\n",
              "    .colab-df-convert {\n",
              "      background-color: #E8F0FE;\n",
              "      border: none;\n",
              "      border-radius: 50%;\n",
              "      cursor: pointer;\n",
              "      display: none;\n",
              "      fill: #1967D2;\n",
              "      height: 32px;\n",
              "      padding: 0 0 0 0;\n",
              "      width: 32px;\n",
              "    }\n",
              "\n",
              "    .colab-df-convert:hover {\n",
              "      background-color: #E2EBFA;\n",
              "      box-shadow: 0px 1px 2px rgba(60, 64, 67, 0.3), 0px 1px 3px 1px rgba(60, 64, 67, 0.15);\n",
              "      fill: #174EA6;\n",
              "    }\n",
              "\n",
              "    [theme=dark] .colab-df-convert {\n",
              "      background-color: #3B4455;\n",
              "      fill: #D2E3FC;\n",
              "    }\n",
              "\n",
              "    [theme=dark] .colab-df-convert:hover {\n",
              "      background-color: #434B5C;\n",
              "      box-shadow: 0px 1px 3px 1px rgba(0, 0, 0, 0.15);\n",
              "      filter: drop-shadow(0px 1px 2px rgba(0, 0, 0, 0.3));\n",
              "      fill: #FFFFFF;\n",
              "    }\n",
              "  </style>\n",
              "\n",
              "      <script>\n",
              "        const buttonEl =\n",
              "          document.querySelector('#df-f4d252b7-9b00-4d2c-941c-317d1b153006 button.colab-df-convert');\n",
              "        buttonEl.style.display =\n",
              "          google.colab.kernel.accessAllowed ? 'block' : 'none';\n",
              "\n",
              "        async function convertToInteractive(key) {\n",
              "          const element = document.querySelector('#df-f4d252b7-9b00-4d2c-941c-317d1b153006');\n",
              "          const dataTable =\n",
              "            await google.colab.kernel.invokeFunction('convertToInteractive',\n",
              "                                                     [key], {});\n",
              "          if (!dataTable) return;\n",
              "\n",
              "          const docLinkHtml = 'Like what you see? Visit the ' +\n",
              "            '<a target=\"_blank\" href=https://colab.research.google.com/notebooks/data_table.ipynb>data table notebook</a>'\n",
              "            + ' to learn more about interactive tables.';\n",
              "          element.innerHTML = '';\n",
              "          dataTable['output_type'] = 'display_data';\n",
              "          await google.colab.output.renderOutput(dataTable, element);\n",
              "          const docLink = document.createElement('div');\n",
              "          docLink.innerHTML = docLinkHtml;\n",
              "          element.appendChild(docLink);\n",
              "        }\n",
              "      </script>\n",
              "    </div>\n",
              "  </div>\n",
              "  "
            ]
          },
          "metadata": {}
        }
      ]
    },
    {
      "cell_type": "code",
      "source": [
        "# 다른 항목들과의 상관관계를 분석하기 위해서 YES = 1 ,NotNow = 2, NO = 0 의 int값으로 바꾸어 저장하였다.\n",
        "def rename(data):\n",
        "  b = ''\n",
        "  if data == 'Yes': b ='1'\n",
        "  elif data == 'NotNow': b='2'\n",
        "  else:  b = '0'\n",
        "  return b\n",
        "\n",
        "df['SMOKE'] = df['SMOKE'].apply(lambda x:rename(x))\n",
        "df['DRINK'] = df['DRINK'].apply(lambda x: rename(x))\n",
        "df[['SMOKE','DRINK']] = df[['SMOKE','DRINK']].apply(pd.to_numeric)"
      ],
      "metadata": {
        "id": "xCruy2UEl5OS"
      },
      "execution_count": null,
      "outputs": []
    },
    {
      "cell_type": "code",
      "source": [
        "df['BMI'] = round(df['BMI'],1)\n",
        "def get_BMIcategory(bmi):\n",
        "  cat = ''\n",
        "  if bmi <= 18.5: cat =int(0) #저체중\n",
        "  elif 18.5 < bmi and bmi<23 : cat= int(1) #정상\n",
        "  elif 23<= bmi <25 :cat=int(2) #비만\n",
        "  else:  cat = int(3) #고도비만\n",
        "  return cat\n",
        "\n",
        "df['BMI'] = df['BMI'].apply(lambda x:get_BMIcategory(x))\n",
        "df['BMI'] = df['BMI'].apply(pd.to_numeric)"
      ],
      "metadata": {
        "id": "1TVkSXL_thLP"
      },
      "execution_count": null,
      "outputs": []
    },
    {
      "cell_type": "code",
      "source": [
        "df = df.dropna(axis = 0)\n"
      ],
      "metadata": {
        "id": "WhlyIPJsp8eP"
      },
      "execution_count": null,
      "outputs": []
    },
    {
      "cell_type": "code",
      "source": [
        "print(df['BMI'].value_counts())\n",
        "\n",
        "df['BMI'].value_counts().plot.bar()\n",
        "plt.ylabel('count')\n",
        "plt.title('Distribution of BMI')\n",
        "plt.show()"
      ],
      "metadata": {
        "colab": {
          "base_uri": "https://localhost:8080/",
          "height": 369
        },
        "id": "tOvfyBPglvF6",
        "outputId": "0fe43abc-4507-4e8d-f7b7-2dccf658ecb6"
      },
      "execution_count": null,
      "outputs": [
        {
          "output_type": "stream",
          "name": "stdout",
          "text": [
            "3    1566\n",
            "1    1465\n",
            "2     801\n",
            "0     145\n",
            "Name: BMI, dtype: int64\n"
          ]
        },
        {
          "output_type": "display_data",
          "data": {
            "text/plain": [
              "<Figure size 432x288 with 1 Axes>"
            ],
            "image/png": "[encoded data removed]"
          },
          "metadata": {
            "needs_background": "light"
          }
        }
      ]
    },
    {
      "cell_type": "code",
      "source": [
        "\n",
        "q3 = df.quantile(0.75) \n",
        "q1 = df.quantile(0.25)\n",
        "lqr =  q3 - q1\n"
      ],
      "metadata": {
        "id": "oxiq8QwQoRgd"
      },
      "execution_count": null,
      "outputs": []
    },
    {
      "cell_type": "markdown",
      "source": [
        "이상치 제거"
      ],
      "metadata": {
        "id": "6iI0nczB5yF5"
      }
    },
    {
      "cell_type": "code",
      "source": [
        "\n",
        "def is_AST_outlier(df_drop):\n",
        "  AST_data = df_drop['AST']\n",
        "  if AST_data>q3['AST']+1.5*lqr['AST'] or AST_data<q1['AST'] - 1.5*lqr['AST']:\n",
        "    return True\n",
        "  else:\n",
        "    return False\n",
        "\n",
        "def is_ALT_outlier(df_drop):\n",
        "  ALT_data = df_drop['ALT']\n",
        "  if ALT_data>q3['ALT']+1.5*lqr['ALT'] or ALT_data<q1['ALT'] - 1.5*lqr['ALT']:\n",
        "    return True\n",
        "  else:\n",
        "    return False\n",
        "\n",
        "def is_GAM_outlier(df_drop):\n",
        "  GAM_data = df_drop['GAMMA']\n",
        "  if GAM_data>q3['GAMMA']+1.5*lqr['GAMMA'] or GAM_data<q1['GAMMA'] - 1.5*lqr['GAMMA']:\n",
        "    return True\n",
        "  else:\n",
        "    return False\n",
        "\n",
        "df['AST_outlier'] = df.apply(is_AST_outlier,axis = 1)\n",
        "df['ALT_outlier'] = df.apply(is_ALT_outlier,axis = 1)\n",
        "df['GAM_outlier'] = df.apply(is_GAM_outlier,axis = 1)\n",
        "\n",
        "df"
      ],
      "metadata": {
        "colab": {
          "base_uri": "https://localhost:8080/",
          "height": 487
        },
        "id": "_yR3UO6AoTaU",
        "outputId": "7cbc7375-963e-4e8b-ae3c-810fd7e05739"
      },
      "execution_count": null,
      "outputs": [
        {
          "output_type": "execute_result",
          "data": {
            "text/plain": [
              "     SEX   AGE  HEIGHT_OLD  WEIGHT  WAIST  C_PRES  E_PRES  TOT_COL   HDL  \\\n",
              "0      M   9.0       165.0    60.0   72.1   127.0    79.0    188.0  58.0   \n",
              "4      F  12.0       155.0    50.0   75.2   144.0    89.0    220.0  53.0   \n",
              "5      M   9.0       185.0    85.0   94.0   114.0    72.0    234.0  50.0   \n",
              "6      M   9.0       165.0    80.0   93.0   112.0    73.0    119.0  26.0   \n",
              "8      F  17.0       150.0    50.0   82.0   136.0    65.0    177.0  63.0   \n",
              "...   ..   ...         ...     ...    ...     ...     ...      ...   ...   \n",
              "9985   F  14.0       150.0    70.0   96.0   129.0    79.0    110.0  35.0   \n",
              "9989   F  16.0       145.0    70.0   94.0   132.0    82.0    172.0  65.0   \n",
              "9991   M  16.0       155.0    45.0   70.0   117.0    67.0    151.0  54.0   \n",
              "9994   M  17.0       150.0    55.0   95.0   120.0    66.0    188.0  53.0   \n",
              "9999   F  13.0       160.0    75.0  100.0   120.0    80.0    164.0  52.0   \n",
              "\n",
              "        LDL  ...   ALT  GAMMA  SMOKE  DRINK  BMI  HEIGHT  Age_range  \\\n",
              "0     118.0  ...  27.0   21.0      0      0    1    1.65       40.0   \n",
              "4     133.0  ...  17.0   14.0      0      0    1    1.55       50.0   \n",
              "5     147.0  ...  32.0   26.0      1      1    2    1.85       40.0   \n",
              "6      40.0  ...  20.0   35.0      1      1    3    1.65       40.0   \n",
              "8     101.0  ...  48.0   39.0      0      0    1    1.50       80.0   \n",
              "...     ...  ...   ...    ...    ...    ...  ...     ...        ...   \n",
              "9985   49.0  ...  24.0   15.0      0      0    3    1.50       60.0   \n",
              "9989   86.0  ...  15.0   11.0      0      0    3    1.45       70.0   \n",
              "9991   82.0  ...  13.0   16.0      0      0    1    1.55       70.0   \n",
              "9994  110.0  ...  21.0   18.0      0      0    2    1.50       80.0   \n",
              "9999   86.0  ...  24.0   30.0      2      1    3    1.60       60.0   \n",
              "\n",
              "      AST_outlier  ALT_outlier  GAM_outlier  \n",
              "0           False        False        False  \n",
              "4           False        False        False  \n",
              "5           False        False        False  \n",
              "6           False        False        False  \n",
              "8           False        False        False  \n",
              "...           ...          ...          ...  \n",
              "9985        False        False        False  \n",
              "9989        False        False        False  \n",
              "9991        False        False        False  \n",
              "9994        False        False        False  \n",
              "9999        False        False        False  \n",
              "\n",
              "[3977 rows x 21 columns]"
            ],
            "text/html": [
              "\n",
              "  <div id=\"df-e13802aa-1f12-46b7-a76f-a5ea7a33b572\">\n",
              "    <div class=\"colab-df-container\">\n",
              "      <div>\n",
              "<style scoped>\n",
              "    .dataframe tbody tr th:only-of-type {\n",
              "        vertical-align: middle;\n",
              "    }\n",
              "\n",
              "    .dataframe tbody tr th {\n",
              "        vertical-align: top;\n",
              "    }\n",
              "\n",
              "    .dataframe thead th {\n",
              "        text-align: right;\n",
              "    }\n",
              "</style>\n",
              "<table border=\"1\" class=\"dataframe\">\n",
              "  <thead>\n",
              "    <tr style=\"text-align: right;\">\n",
              "      <th></th>\n",
              "      <th>SEX</th>\n",
              "      <th>AGE</th>\n",
              "      <th>HEIGHT_OLD</th>\n",
              "      <th>WEIGHT</th>\n",
              "      <th>WAIST</th>\n",
              "      <th>C_PRES</th>\n",
              "      <th>E_PRES</th>\n",
              "      <th>TOT_COL</th>\n",
              "      <th>HDL</th>\n",
              "      <th>LDL</th>\n",
              "      <th>...</th>\n",
              "      <th>ALT</th>\n",
              "      <th>GAMMA</th>\n",
              "      <th>SMOKE</th>\n",
              "      <th>DRINK</th>\n",
              "      <th>BMI</th>\n",
              "      <th>HEIGHT</th>\n",
              "      <th>Age_range</th>\n",
              "      <th>AST_outlier</th>\n",
              "      <th>ALT_outlier</th>\n",
              "      <th>GAM_outlier</th>\n",
              "    </tr>\n",
              "  </thead>\n",
              "  <tbody>\n",
              "    <tr>\n",
              "      <th>0</th>\n",
              "      <td>M</td>\n",
              "      <td>9.0</td>\n",
              "      <td>165.0</td>\n",
              "      <td>60.0</td>\n",
              "      <td>72.1</td>\n",
              "      <td>127.0</td>\n",
              "      <td>79.0</td>\n",
              "      <td>188.0</td>\n",
              "      <td>58.0</td>\n",
              "      <td>118.0</td>\n",
              "      <td>...</td>\n",
              "      <td>27.0</td>\n",
              "      <td>21.0</td>\n",
              "      <td>0</td>\n",
              "      <td>0</td>\n",
              "      <td>1</td>\n",
              "      <td>1.65</td>\n",
              "      <td>40.0</td>\n",
              "      <td>False</td>\n",
              "      <td>False</td>\n",
              "      <td>False</td>\n",
              "    </tr>\n",
              "    <tr>\n",
              "      <th>4</th>\n",
              "      <td>F</td>\n",
              "      <td>12.0</td>\n",
              "      <td>155.0</td>\n",
              "      <td>50.0</td>\n",
              "      <td>75.2</td>\n",
              "      <td>144.0</td>\n",
              "      <td>89.0</td>\n",
              "      <td>220.0</td>\n",
              "      <td>53.0</td>\n",
              "      <td>133.0</td>\n",
              "      <td>...</td>\n",
              "      <td>17.0</td>\n",
              "      <td>14.0</td>\n",
              "      <td>0</td>\n",
              "      <td>0</td>\n",
              "      <td>1</td>\n",
              "      <td>1.55</td>\n",
              "      <td>50.0</td>\n",
              "      <td>False</td>\n",
              "      <td>False</td>\n",
              "      <td>False</td>\n",
              "    </tr>\n",
              "    <tr>\n",
              "      <th>5</th>\n",
              "      <td>M</td>\n",
              "      <td>9.0</td>\n",
              "      <td>185.0</td>\n",
              "      <td>85.0</td>\n",
              "      <td>94.0</td>\n",
              "      <td>114.0</td>\n",
              "      <td>72.0</td>\n",
              "      <td>234.0</td>\n",
              "      <td>50.0</td>\n",
              "      <td>147.0</td>\n",
              "      <td>...</td>\n",
              "      <td>32.0</td>\n",
              "      <td>26.0</td>\n",
              "      <td>1</td>\n",
              "      <td>1</td>\n",
              "      <td>2</td>\n",
              "      <td>1.85</td>\n",
              "      <td>40.0</td>\n",
              "      <td>False</td>\n",
              "      <td>False</td>\n",
              "      <td>False</td>\n",
              "    </tr>\n",
              "    <tr>\n",
              "      <th>6</th>\n",
              "      <td>M</td>\n",
              "      <td>9.0</td>\n",
              "      <td>165.0</td>\n",
              "      <td>80.0</td>\n",
              "      <td>93.0</td>\n",
              "      <td>112.0</td>\n",
              "      <td>73.0</td>\n",
              "      <td>119.0</td>\n",
              "      <td>26.0</td>\n",
              "      <td>40.0</td>\n",
              "      <td>...</td>\n",
              "      <td>20.0</td>\n",
              "      <td>35.0</td>\n",
              "      <td>1</td>\n",
              "      <td>1</td>\n",
              "      <td>3</td>\n",
              "      <td>1.65</td>\n",
              "      <td>40.0</td>\n",
              "      <td>False</td>\n",
              "      <td>False</td>\n",
              "      <td>False</td>\n",
              "    </tr>\n",
              "    <tr>\n",
              "      <th>8</th>\n",
              "      <td>F</td>\n",
              "      <td>17.0</td>\n",
              "      <td>150.0</td>\n",
              "      <td>50.0</td>\n",
              "      <td>82.0</td>\n",
              "      <td>136.0</td>\n",
              "      <td>65.0</td>\n",
              "      <td>177.0</td>\n",
              "      <td>63.0</td>\n",
              "      <td>101.0</td>\n",
              "      <td>...</td>\n",
              "      <td>48.0</td>\n",
              "      <td>39.0</td>\n",
              "      <td>0</td>\n",
              "      <td>0</td>\n",
              "      <td>1</td>\n",
              "      <td>1.50</td>\n",
              "      <td>80.0</td>\n",
              "      <td>False</td>\n",
              "      <td>False</td>\n",
              "      <td>False</td>\n",
              "    </tr>\n",
              "    <tr>\n",
              "      <th>...</th>\n",
              "      <td>...</td>\n",
              "      <td>...</td>\n",
              "      <td>...</td>\n",
              "      <td>...</td>\n",
              "      <td>...</td>\n",
              "      <td>...</td>\n",
              "      <td>...</td>\n",
              "      <td>...</td>\n",
              "      <td>...</td>\n",
              "      <td>...</td>\n",
              "      <td>...</td>\n",
              "      <td>...</td>\n",
              "      <td>...</td>\n",
              "      <td>...</td>\n",
              "      <td>...</td>\n",
              "      <td>...</td>\n",
              "      <td>...</td>\n",
              "      <td>...</td>\n",
              "      <td>...</td>\n",
              "      <td>...</td>\n",
              "      <td>...</td>\n",
              "    </tr>\n",
              "    <tr>\n",
              "      <th>9985</th>\n",
              "      <td>F</td>\n",
              "      <td>14.0</td>\n",
              "      <td>150.0</td>\n",
              "      <td>70.0</td>\n",
              "      <td>96.0</td>\n",
              "      <td>129.0</td>\n",
              "      <td>79.0</td>\n",
              "      <td>110.0</td>\n",
              "      <td>35.0</td>\n",
              "      <td>49.0</td>\n",
              "      <td>...</td>\n",
              "      <td>24.0</td>\n",
              "      <td>15.0</td>\n",
              "      <td>0</td>\n",
              "      <td>0</td>\n",
              "      <td>3</td>\n",
              "      <td>1.50</td>\n",
              "      <td>60.0</td>\n",
              "      <td>False</td>\n",
              "      <td>False</td>\n",
              "      <td>False</td>\n",
              "    </tr>\n",
              "    <tr>\n",
              "      <th>9989</th>\n",
              "      <td>F</td>\n",
              "      <td>16.0</td>\n",
              "      <td>145.0</td>\n",
              "      <td>70.0</td>\n",
              "      <td>94.0</td>\n",
              "      <td>132.0</td>\n",
              "      <td>82.0</td>\n",
              "      <td>172.0</td>\n",
              "      <td>65.0</td>\n",
              "      <td>86.0</td>\n",
              "      <td>...</td>\n",
              "      <td>15.0</td>\n",
              "      <td>11.0</td>\n",
              "      <td>0</td>\n",
              "      <td>0</td>\n",
              "      <td>3</td>\n",
              "      <td>1.45</td>\n",
              "      <td>70.0</td>\n",
              "      <td>False</td>\n",
              "      <td>False</td>\n",
              "      <td>False</td>\n",
              "    </tr>\n",
              "    <tr>\n",
              "      <th>9991</th>\n",
              "      <td>M</td>\n",
              "      <td>16.0</td>\n",
              "      <td>155.0</td>\n",
              "      <td>45.0</td>\n",
              "      <td>70.0</td>\n",
              "      <td>117.0</td>\n",
              "      <td>67.0</td>\n",
              "      <td>151.0</td>\n",
              "      <td>54.0</td>\n",
              "      <td>82.0</td>\n",
              "      <td>...</td>\n",
              "      <td>13.0</td>\n",
              "      <td>16.0</td>\n",
              "      <td>0</td>\n",
              "      <td>0</td>\n",
              "      <td>1</td>\n",
              "      <td>1.55</td>\n",
              "      <td>70.0</td>\n",
              "      <td>False</td>\n",
              "      <td>False</td>\n",
              "      <td>False</td>\n",
              "    </tr>\n",
              "    <tr>\n",
              "      <th>9994</th>\n",
              "      <td>M</td>\n",
              "      <td>17.0</td>\n",
              "      <td>150.0</td>\n",
              "      <td>55.0</td>\n",
              "      <td>95.0</td>\n",
              "      <td>120.0</td>\n",
              "      <td>66.0</td>\n",
              "      <td>188.0</td>\n",
              "      <td>53.0</td>\n",
              "      <td>110.0</td>\n",
              "      <td>...</td>\n",
              "      <td>21.0</td>\n",
              "      <td>18.0</td>\n",
              "      <td>0</td>\n",
              "      <td>0</td>\n",
              "      <td>2</td>\n",
              "      <td>1.50</td>\n",
              "      <td>80.0</td>\n",
              "      <td>False</td>\n",
              "      <td>False</td>\n",
              "      <td>False</td>\n",
              "    </tr>\n",
              "    <tr>\n",
              "      <th>9999</th>\n",
              "      <td>F</td>\n",
              "      <td>13.0</td>\n",
              "      <td>160.0</td>\n",
              "      <td>75.0</td>\n",
              "      <td>100.0</td>\n",
              "      <td>120.0</td>\n",
              "      <td>80.0</td>\n",
              "      <td>164.0</td>\n",
              "      <td>52.0</td>\n",
              "      <td>86.0</td>\n",
              "      <td>...</td>\n",
              "      <td>24.0</td>\n",
              "      <td>30.0</td>\n",
              "      <td>2</td>\n",
              "      <td>1</td>\n",
              "      <td>3</td>\n",
              "      <td>1.60</td>\n",
              "      <td>60.0</td>\n",
              "      <td>False</td>\n",
              "      <td>False</td>\n",
              "      <td>False</td>\n",
              "    </tr>\n",
              "  </tbody>\n",
              "</table>\n",
              "<p>3977 rows × 21 columns</p>\n",
              "</div>\n",
              "      <button class=\"colab-df-convert\" onclick=\"convertToInteractive('df-e13802aa-1f12-46b7-a76f-a5ea7a33b572')\"\n",
              "              title=\"Convert this dataframe to an interactive table.\"\n",
              "              style=\"display:none;\">\n",
              "        \n",
              "  <svg xmlns=\"http://www.w3.org/2000/svg\" height=\"24px\"viewBox=\"0 0 24 24\"\n",
              "       width=\"24px\">\n",
              "    <path d=\"M0 0h24v24H0V0z\" fill=\"none\"/>\n",
              "    <path d=\"M18.56 5.44l.94 2.06.94-2.06 2.06-.94-2.06-.94-.94-2.06-.94 2.06-2.06.94zm-11 1L8.5 8.5l.94-2.06 2.06-.94-2.06-.94L8.5 2.5l-.94 2.06-2.06.94zm10 10l.94 2.06.94-2.06 2.06-.94-2.06-.94-.94-2.06-.94 2.06-2.06.94z\"/><path d=\"M17.41 7.96l-1.37-1.37c-.4-.4-.92-.59-1.43-.59-.52 0-1.04.2-1.43.59L10.3 9.45l-7.72 7.72c-.78.78-.78 2.05 0 2.83L4 21.41c.39.39.9.59 1.41.59.51 0 1.02-.2 1.41-.59l7.78-7.78 2.81-2.81c.8-.78.8-2.07 0-2.86zM5.41 20L4 18.59l7.72-7.72 1.47 1.35L5.41 20z\"/>\n",
              "  </svg>\n",
              "      </button>\n",
              "      \n",
              "  <style>\n",
              "    .colab-df-container {\n",
              "      display:flex;\n",
              "      flex-wrap:wrap;\n",
              "      gap: 12px;\n",
              "    }\n",
              "\n",
              "    .colab-df-convert {\n",
              "      background-color: #E8F0FE;\n",
              "      border: none;\n",
              "      border-radius: 50%;\n",
              "      cursor: pointer;\n",
              "      display: none;\n",
              "      fill: #1967D2;\n",
              "      height: 32px;\n",
              "      padding: 0 0 0 0;\n",
              "      width: 32px;\n",
              "    }\n",
              "\n",
              "    .colab-df-convert:hover {\n",
              "      background-color: #E2EBFA;\n",
              "      box-shadow: 0px 1px 2px rgba(60, 64, 67, 0.3), 0px 1px 3px 1px rgba(60, 64, 67, 0.15);\n",
              "      fill: #174EA6;\n",
              "    }\n",
              "\n",
              "    [theme=dark] .colab-df-convert {\n",
              "      background-color: #3B4455;\n",
              "      fill: #D2E3FC;\n",
              "    }\n",
              "\n",
              "    [theme=dark] .colab-df-convert:hover {\n",
              "      background-color: #434B5C;\n",
              "      box-shadow: 0px 1px 3px 1px rgba(0, 0, 0, 0.15);\n",
              "      filter: drop-shadow(0px 1px 2px rgba(0, 0, 0, 0.3));\n",
              "      fill: #FFFFFF;\n",
              "    }\n",
              "  </style>\n",
              "\n",
              "      <script>\n",
              "        const buttonEl =\n",
              "          document.querySelector('#df-e13802aa-1f12-46b7-a76f-a5ea7a33b572 button.colab-df-convert');\n",
              "        buttonEl.style.display =\n",
              "          google.colab.kernel.accessAllowed ? 'block' : 'none';\n",
              "\n",
              "        async function convertToInteractive(key) {\n",
              "          const element = document.querySelector('#df-e13802aa-1f12-46b7-a76f-a5ea7a33b572');\n",
              "          const dataTable =\n",
              "            await google.colab.kernel.invokeFunction('convertToInteractive',\n",
              "                                                     [key], {});\n",
              "          if (!dataTable) return;\n",
              "\n",
              "          const docLinkHtml = 'Like what you see? Visit the ' +\n",
              "            '<a target=\"_blank\" href=https://colab.research.google.com/notebooks/data_table.ipynb>data table notebook</a>'\n",
              "            + ' to learn more about interactive tables.';\n",
              "          element.innerHTML = '';\n",
              "          dataTable['output_type'] = 'display_data';\n",
              "          await google.colab.output.renderOutput(dataTable, element);\n",
              "          const docLink = document.createElement('div');\n",
              "          docLink.innerHTML = docLinkHtml;\n",
              "          element.appendChild(docLink);\n",
              "        }\n",
              "      </script>\n",
              "    </div>\n",
              "  </div>\n",
              "  "
            ]
          },
          "metadata": {},
          "execution_count": 15
        }
      ]
    },
    {
      "cell_type": "code",
      "source": [
        "df = df.loc[df['AST_outlier']== False]\n",
        "del df['AST_outlier']\n",
        "df = df.loc[df['ALT_outlier']== False]\n",
        "del df['ALT_outlier']\n",
        "df = df.loc[df['GAM_outlier']== False]\n",
        "del df['GAM_outlier']\n"
      ],
      "metadata": {
        "id": "0Yjw7gsUos2Y"
      },
      "execution_count": null,
      "outputs": []
    },
    {
      "cell_type": "markdown",
      "source": [
        "GAMMA와 AST에 따른 BMI의 분포를 나타내었다."
      ],
      "metadata": {
        "id": "7YBJ9Gio5_ww"
      }
    },
    {
      "cell_type": "code",
      "source": [
        "mglearn.discrete_scatter(df['GAMMA'], df['AST'], df['BMI'])\n",
        "plt.xlabel(\"GAMMA\")\n",
        "plt.ylabel(\"AST\")\n",
        "plt.legend()\n",
        "plt.show()\n"
      ],
      "metadata": {
        "colab": {
          "base_uri": "https://localhost:8080/",
          "height": 279
        },
        "id": "TBucpsKmuhCJ",
        "outputId": "e639e85a-566a-42fb-ef65-a2396e4df5eb"
      },
      "execution_count": null,
      "outputs": [
        {
          "output_type": "display_data",
          "data": {
            "text/plain": [
              "<Figure size 432x288 with 1 Axes>"
            ],
            "image/png": "[encoded data removed]"
          },
          "metadata": {
            "needs_background": "light"
          }
        }
      ]
    },
    {
      "cell_type": "markdown",
      "source": [
        "##변수 설정\n",
        "BMI지수를 종속 변수로 두고 , BMI 계산에 사용되었던 heigh와 weight, 그리고 weight와 직접적으로 연관이 있다고 생각되는 waist를 제외한 변수들을 독립변수로 설정하였다. \n",
        "\n",
        "testsize를 0.25로 둔 채로 DecisionTreeClassifier를 실행하여 학습용 데이터와 시험용 데이터의 정확도를 시험하였다\n"
      ],
      "metadata": {
        "id": "6eX7oCt56Gll"
      }
    },
    {
      "cell_type": "code",
      "source": [
        "from sklearn.tree import DecisionTreeClassifier\n",
        "from sklearn.model_selection import train_test_split\n",
        "\n",
        "X = df.iloc[:,5:14]  \n",
        "y = df.iloc[:,15] \n",
        "\n",
        "X_train, X_test, y_train, y_test = train_test_split(X, y, test_size = 0.25, random_state=42)\n",
        "\n",
        "tree = DecisionTreeClassifier(random_state=0)  \n",
        "tree.fit(X_train, y_train)\n",
        "print(\"학습용 데이터 정확도: {:.3f}\".format(tree.score(X_train, y_train)))\n",
        "print(\"시험용 데이터 정확도: {:.3f}\".format(tree.score(X_test, y_test)))"
      ],
      "metadata": {
        "colab": {
          "base_uri": "https://localhost:8080/"
        },
        "id": "YzTCDNKExiWI",
        "outputId": "daaa2249-8ed7-4ec5-acf5-8cb4cadad664"
      },
      "execution_count": null,
      "outputs": [
        {
          "output_type": "stream",
          "name": "stdout",
          "text": [
            "학습용 데이터 정확도: 1.000\n",
            "시험용 데이터 정확도: 0.377\n"
          ]
        }
      ]
    },
    {
      "cell_type": "code",
      "source": [
        "tree = DecisionTreeClassifier(max_depth=4, random_state=0)\n",
        "tree.fit(X_train, y_train)\n",
        "\n",
        "print(\"학습용 데이터 정확도: {:.3f}\".format(tree.score(X_train, y_train)))\n",
        "print(\"시험용 데이터 정확도: {:.3f}\".format(tree.score(X_test, y_test)))"
      ],
      "metadata": {
        "colab": {
          "base_uri": "https://localhost:8080/"
        },
        "id": "fomUf0fL7Nn1",
        "outputId": "93ebb95c-fa56-4b92-e367-4d074141fa89"
      },
      "execution_count": null,
      "outputs": [
        {
          "output_type": "stream",
          "name": "stdout",
          "text": [
            "학습용 데이터 정확도: 0.524\n",
            "시험용 데이터 정확도: 0.506\n"
          ]
        }
      ]
    },
    {
      "cell_type": "code",
      "source": [
        "tree = DecisionTreeClassifier(max_depth=6, random_state=0)\n",
        "tree.fit(X_train, y_train)\n",
        "\n",
        "print(\"학습용 데이터 정확도: {:.3f}\".format(tree.score(X_train, y_train)))\n",
        "print(\"시험용 데이터 정확도: {:.3f}\".format(tree.score(X_test, y_test)))"
      ],
      "metadata": {
        "colab": {
          "base_uri": "https://localhost:8080/"
        },
        "id": "1ty3hqHFskMG",
        "outputId": "b101ccb4-260c-42a6-d56c-ba02215901ef"
      },
      "execution_count": null,
      "outputs": [
        {
          "output_type": "stream",
          "name": "stdout",
          "text": [
            "학습용 데이터 정확도: 0.568\n",
            "시험용 데이터 정확도: 0.480\n"
          ]
        }
      ]
    },
    {
      "cell_type": "code",
      "source": [
        "tree = DecisionTreeClassifier(max_depth=7, random_state=0)\n",
        "tree.fit(X_train, y_train)\n",
        "\n",
        "print(\"학습용 데이터 정확도: {:.3f}\".format(tree.score(X_train, y_train)))\n",
        "print(\"시험용 데이터 정확도: {:.3f}\".format(tree.score(X_test, y_test)))"
      ],
      "metadata": {
        "colab": {
          "base_uri": "https://localhost:8080/"
        },
        "id": "qbbjk0UM7KlO",
        "outputId": "0acfffce-8a67-4a8d-d840-834629515f9f"
      },
      "execution_count": null,
      "outputs": [
        {
          "output_type": "stream",
          "name": "stdout",
          "text": [
            "학습용 데이터 정확도: 0.601\n",
            "시험용 데이터 정확도: 0.477\n"
          ]
        }
      ]
    },
    {
      "cell_type": "markdown",
      "source": [
        "그리고 max depth를 높일 수록 학습용 데이터의 정확도는 높아졌으나, 시험용 데이터의 정확도가 낮아지는 것으로 보아 과적합의 위험이 보였기 때문에 max_depth를 줄이는 방향으로 조절하였다. "
      ],
      "metadata": {
        "id": "UNQdZzuZ7Te6"
      }
    },
    {
      "cell_type": "code",
      "source": [
        "tree = DecisionTreeClassifier(max_depth=4, random_state=0)\n",
        "tree.fit(X_train, y_train)\n",
        "\n",
        "print(\"학습용 데이터 정확도: {:.3f}\".format(tree.score(X_train, y_train)))\n",
        "print(\"시험용 데이터 정확도: {:.3f}\".format(tree.score(X_test, y_test)))"
      ],
      "metadata": {
        "colab": {
          "base_uri": "https://localhost:8080/"
        },
        "id": "9W9vD50W9IJX",
        "outputId": "a265caf2-35d6-4210-e61c-d244a63c1cec"
      },
      "execution_count": null,
      "outputs": [
        {
          "output_type": "stream",
          "name": "stdout",
          "text": [
            "학습용 데이터 정확도: 0.524\n",
            "시험용 데이터 정확도: 0.506\n"
          ]
        }
      ]
    },
    {
      "cell_type": "code",
      "source": [
        "from sklearn.tree import export_graphviz\n",
        "import graphviz\n",
        "\n",
        "# filled = True: 색상의 진하기로 클래스를 나타냄, impurity: 불순도 계산값 보여주기 옵션\n",
        "export_graphviz(tree, out_file=\"tree.dot\", class_names=[ \"저체중\",\"정상\", \"비만\",\"과체중\"],\n",
        "                feature_names=df.columns[5:14], impurity=False, filled=True)\n",
        "\n",
        "with open(\"tree.dot\") as f:\n",
        "    dot_graph = f.read()\n",
        "\n",
        "display(graphviz.Source(dot_graph))"
      ],
      "metadata": {
        "colab": {
          "base_uri": "https://localhost:8080/",
          "height": 676
        },
        "id": "90qCGPjnrBme",
        "outputId": "4755a97f-85a3-47a0-95b3-b8eed0e2b9b9"
      },
      "execution_count": null,
      "outputs": [
        {
          "output_type": "display_data",
          "data": {
            "text/plain": [
              "<graphviz.files.Source at 0x7f28aa80d9d0>"
            ],
            "image/svg+xml": "<?xml version=\"1.0\" encoding=\"UTF-8\" standalone=\"no\"?>\n<!DOCTYPE svg PUBLIC \"-//W3C//DTD SVG 1.1//EN\"\n \"http://www.w3.org/Graphics/SVG/1.1/DTD/svg11.dtd\">\n<!-- Generated by graphviz version 2.40.1 (20161225.0304)\n -->\n<!-- Title: Tree Pages: 1 -->\n<svg width=\"2765pt\" height=\"477pt\"\n viewBox=\"0.00 0.00 2765.00 477.00\" xmlns=\"http://www.w3.org/2000/svg\" xmlns:xlink=\"http://www.w3.org/1999/xlink\">\n<g id=\"graph0\" class=\"graph\" transform=\"scale(1 1) rotate(0) translate(4 473)\">\n<title>Tree</title>\n<polygon fill=\"#ffffff\" stroke=\"transparent\" points=\"-4,4 -4,-473 2761,-473 2761,4 -4,4\"/>\n<!-- 0 -->\n<g id=\"node1\" class=\"node\">\n<title>0</title>\n<polygon fill=\"#f9fef8\" stroke=\"#000000\" points=\"1463.5,-469 1275.5,-469 1275.5,-401 1463.5,-401 1463.5,-469\"/>\n<text text-anchor=\"middle\" x=\"1369.5\" y=\"-453.8\" font-family=\"Helvetica,sans-Serif\" font-size=\"14.00\" fill=\"#000000\">GAMMA &lt;= 20.5</text>\n<text text-anchor=\"middle\" x=\"1369.5\" y=\"-438.8\" font-family=\"Helvetica,sans-Serif\" font-size=\"14.00\" fill=\"#000000\">samples = 2556</text>\n<text text-anchor=\"middle\" x=\"1369.5\" y=\"-423.8\" font-family=\"Helvetica,sans-Serif\" font-size=\"14.00\" fill=\"#000000\">value = [90, 996, 530, 940]</text>\n<text text-anchor=\"middle\" x=\"1369.5\" y=\"-408.8\" font-family=\"Helvetica,sans-Serif\" font-size=\"14.00\" fill=\"#000000\">class = 정상</text>\n</g>\n<!-- 1 -->\n<g id=\"node2\" class=\"node\">\n<title>1</title>\n<polygon fill=\"#c4f7c0\" stroke=\"#000000\" points=\"1113.5,-365 925.5,-365 925.5,-297 1113.5,-297 1113.5,-365\"/>\n<text text-anchor=\"middle\" x=\"1019.5\" y=\"-349.8\" font-family=\"Helvetica,sans-Serif\" font-size=\"14.00\" fill=\"#000000\">HDL &lt;= 50.5</text>\n<text text-anchor=\"middle\" x=\"1019.5\" y=\"-334.8\" font-family=\"Helvetica,sans-Serif\" font-size=\"14.00\" fill=\"#000000\">samples = 1224</text>\n<text text-anchor=\"middle\" x=\"1019.5\" y=\"-319.8\" font-family=\"Helvetica,sans-Serif\" font-size=\"14.00\" fill=\"#000000\">value = [67, 610, 225, 322]</text>\n<text text-anchor=\"middle\" x=\"1019.5\" y=\"-304.8\" font-family=\"Helvetica,sans-Serif\" font-size=\"14.00\" fill=\"#000000\">class = 정상</text>\n</g>\n<!-- 0&#45;&gt;1 -->\n<g id=\"edge1\" class=\"edge\">\n<title>0&#45;&gt;1</title>\n<path fill=\"none\" stroke=\"#000000\" d=\"M1275.246,-406.9931C1228.3645,-393.0626 1171.5806,-376.1897 1123.4393,-361.8848\"/>\n<polygon fill=\"#000000\" stroke=\"#000000\" points=\"1124.2013,-358.4601 1113.6186,-358.9667 1122.2074,-365.1701 1124.2013,-358.4601\"/>\n<text text-anchor=\"middle\" x=\"1125.5288\" y=\"-377.2473\" font-family=\"Helvetica,sans-Serif\" font-size=\"14.00\" fill=\"#000000\">True</text>\n</g>\n<!-- 16 -->\n<g id=\"node17\" class=\"node\">\n<title>16</title>\n<polygon fill=\"#f5cef9\" stroke=\"#000000\" points=\"1809.5,-365 1621.5,-365 1621.5,-297 1809.5,-297 1809.5,-365\"/>\n<text text-anchor=\"middle\" x=\"1715.5\" y=\"-349.8\" font-family=\"Helvetica,sans-Serif\" font-size=\"14.00\" fill=\"#000000\">C_PRES &lt;= 117.5</text>\n<text text-anchor=\"middle\" x=\"1715.5\" y=\"-334.8\" font-family=\"Helvetica,sans-Serif\" font-size=\"14.00\" fill=\"#000000\">samples = 1332</text>\n<text text-anchor=\"middle\" x=\"1715.5\" y=\"-319.8\" font-family=\"Helvetica,sans-Serif\" font-size=\"14.00\" fill=\"#000000\">value = [23, 386, 305, 618]</text>\n<text text-anchor=\"middle\" x=\"1715.5\" y=\"-304.8\" font-family=\"Helvetica,sans-Serif\" font-size=\"14.00\" fill=\"#000000\">class = 과체중</text>\n</g>\n<!-- 0&#45;&gt;16 -->\n<g id=\"edge16\" class=\"edge\">\n<title>0&#45;&gt;16</title>\n<path fill=\"none\" stroke=\"#000000\" d=\"M1463.589,-406.7189C1509.4565,-392.9322 1564.7426,-376.3144 1611.822,-362.1633\"/>\n<polygon fill=\"#000000\" stroke=\"#000000\" points=\"1612.8605,-365.5059 1621.4297,-359.2755 1610.8455,-358.8022 1612.8605,-365.5059\"/>\n<text text-anchor=\"middle\" x=\"1609.5889\" y=\"-377.5935\" font-family=\"Helvetica,sans-Serif\" font-size=\"14.00\" fill=\"#000000\">False</text>\n</g>\n<!-- 2 -->\n<g id=\"node3\" class=\"node\">\n<title>2</title>\n<polygon fill=\"#fbeefd\" stroke=\"#000000\" points=\"572.5,-261 400.5,-261 400.5,-193 572.5,-193 572.5,-261\"/>\n<text text-anchor=\"middle\" x=\"486.5\" y=\"-245.8\" font-family=\"Helvetica,sans-Serif\" font-size=\"14.00\" fill=\"#000000\">ALT &lt;= 20.5</text>\n<text text-anchor=\"middle\" x=\"486.5\" y=\"-230.8\" font-family=\"Helvetica,sans-Serif\" font-size=\"14.00\" fill=\"#000000\">samples = 337</text>\n<text text-anchor=\"middle\" x=\"486.5\" y=\"-215.8\" font-family=\"Helvetica,sans-Serif\" font-size=\"14.00\" fill=\"#000000\">value = [7, 122, 67, 141]</text>\n<text text-anchor=\"middle\" x=\"486.5\" y=\"-200.8\" font-family=\"Helvetica,sans-Serif\" font-size=\"14.00\" fill=\"#000000\">class = 과체중</text>\n</g>\n<!-- 1&#45;&gt;2 -->\n<g id=\"edge2\" class=\"edge\">\n<title>1&#45;&gt;2</title>\n<path fill=\"none\" stroke=\"#000000\" d=\"M925.4372,-312.6463C828.9339,-293.8164 679.5641,-264.6711 582.3973,-245.7117\"/>\n<polygon fill=\"#000000\" stroke=\"#000000\" points=\"583.0604,-242.2751 572.5752,-243.7952 581.7198,-249.1456 583.0604,-242.2751\"/>\n</g>\n<!-- 9 -->\n<g id=\"node10\" class=\"node\">\n<title>9</title>\n<polygon fill=\"#aff4a9\" stroke=\"#000000\" points=\"1113.5,-261 925.5,-261 925.5,-193 1113.5,-193 1113.5,-261\"/>\n<text text-anchor=\"middle\" x=\"1019.5\" y=\"-245.8\" font-family=\"Helvetica,sans-Serif\" font-size=\"14.00\" fill=\"#000000\">C_PRES &lt;= 128.5</text>\n<text text-anchor=\"middle\" x=\"1019.5\" y=\"-230.8\" font-family=\"Helvetica,sans-Serif\" font-size=\"14.00\" fill=\"#000000\">samples = 887</text>\n<text text-anchor=\"middle\" x=\"1019.5\" y=\"-215.8\" font-family=\"Helvetica,sans-Serif\" font-size=\"14.00\" fill=\"#000000\">value = [60, 488, 158, 181]</text>\n<text text-anchor=\"middle\" x=\"1019.5\" y=\"-200.8\" font-family=\"Helvetica,sans-Serif\" font-size=\"14.00\" fill=\"#000000\">class = 정상</text>\n</g>\n<!-- 1&#45;&gt;9 -->\n<g id=\"edge9\" class=\"edge\">\n<title>1&#45;&gt;9</title>\n<path fill=\"none\" stroke=\"#000000\" d=\"M1019.5,-296.9465C1019.5,-288.776 1019.5,-279.9318 1019.5,-271.3697\"/>\n<polygon fill=\"#000000\" stroke=\"#000000\" points=\"1023.0001,-271.13 1019.5,-261.13 1016.0001,-271.13 1023.0001,-271.13\"/>\n</g>\n<!-- 3 -->\n<g id=\"node4\" class=\"node\">\n<title>3</title>\n<polygon fill=\"#edfcec\" stroke=\"#000000\" points=\"320,-157 165,-157 165,-89 320,-89 320,-157\"/>\n<text text-anchor=\"middle\" x=\"242.5\" y=\"-141.8\" font-family=\"Helvetica,sans-Serif\" font-size=\"14.00\" fill=\"#000000\">AST &lt;= 30.5</text>\n<text text-anchor=\"middle\" x=\"242.5\" y=\"-126.8\" font-family=\"Helvetica,sans-Serif\" font-size=\"14.00\" fill=\"#000000\">samples = 220</text>\n<text text-anchor=\"middle\" x=\"242.5\" y=\"-111.8\" font-family=\"Helvetica,sans-Serif\" font-size=\"14.00\" fill=\"#000000\">value = [7, 91, 45, 77]</text>\n<text text-anchor=\"middle\" x=\"242.5\" y=\"-96.8\" font-family=\"Helvetica,sans-Serif\" font-size=\"14.00\" fill=\"#000000\">class = 정상</text>\n</g>\n<!-- 2&#45;&gt;3 -->\n<g id=\"edge3\" class=\"edge\">\n<title>2&#45;&gt;3</title>\n<path fill=\"none\" stroke=\"#000000\" d=\"M406.6053,-192.9465C381.957,-182.4407 354.6952,-170.8209 329.5876,-160.1193\"/>\n<polygon fill=\"#000000\" stroke=\"#000000\" points=\"330.6519,-156.7683 320.0803,-156.067 327.9072,-163.2078 330.6519,-156.7683\"/>\n</g>\n<!-- 6 -->\n<g id=\"node7\" class=\"node\">\n<title>6</title>\n<polygon fill=\"#f0b3f5\" stroke=\"#000000\" points=\"564,-157 409,-157 409,-89 564,-89 564,-157\"/>\n<text text-anchor=\"middle\" x=\"486.5\" y=\"-141.8\" font-family=\"Helvetica,sans-Serif\" font-size=\"14.00\" fill=\"#000000\">E_PRES &lt;= 62.5</text>\n<text text-anchor=\"middle\" x=\"486.5\" y=\"-126.8\" font-family=\"Helvetica,sans-Serif\" font-size=\"14.00\" fill=\"#000000\">samples = 117</text>\n<text text-anchor=\"middle\" x=\"486.5\" y=\"-111.8\" font-family=\"Helvetica,sans-Serif\" font-size=\"14.00\" fill=\"#000000\">value = [0, 31, 22, 64]</text>\n<text text-anchor=\"middle\" x=\"486.5\" y=\"-96.8\" font-family=\"Helvetica,sans-Serif\" font-size=\"14.00\" fill=\"#000000\">class = 과체중</text>\n</g>\n<!-- 2&#45;&gt;6 -->\n<g id=\"edge6\" class=\"edge\">\n<title>2&#45;&gt;6</title>\n<path fill=\"none\" stroke=\"#000000\" d=\"M486.5,-192.9465C486.5,-184.776 486.5,-175.9318 486.5,-167.3697\"/>\n<polygon fill=\"#000000\" stroke=\"#000000\" points=\"490.0001,-167.13 486.5,-157.13 483.0001,-167.13 490.0001,-167.13\"/>\n</g>\n<!-- 4 -->\n<g id=\"node5\" class=\"node\">\n<title>4</title>\n<polygon fill=\"#e1fbde\" stroke=\"#000000\" points=\"155,-53 0,-53 0,0 155,0 155,-53\"/>\n<text text-anchor=\"middle\" x=\"77.5\" y=\"-37.8\" font-family=\"Helvetica,sans-Serif\" font-size=\"14.00\" fill=\"#000000\">samples = 205</text>\n<text text-anchor=\"middle\" x=\"77.5\" y=\"-22.8\" font-family=\"Helvetica,sans-Serif\" font-size=\"14.00\" fill=\"#000000\">value = [7, 89, 43, 66]</text>\n<text text-anchor=\"middle\" x=\"77.5\" y=\"-7.8\" font-family=\"Helvetica,sans-Serif\" font-size=\"14.00\" fill=\"#000000\">class = 정상</text>\n</g>\n<!-- 3&#45;&gt;4 -->\n<g id=\"edge4\" class=\"edge\">\n<title>3&#45;&gt;4</title>\n<path fill=\"none\" stroke=\"#000000\" d=\"M184.3272,-88.9777C167.182,-78.9504 148.4975,-68.0228 131.618,-58.1508\"/>\n<polygon fill=\"#000000\" stroke=\"#000000\" points=\"133.3724,-55.1223 122.9734,-53.095 129.8385,-61.1648 133.3724,-55.1223\"/>\n</g>\n<!-- 5 -->\n<g id=\"node6\" class=\"node\">\n<title>5</title>\n<polygon fill=\"#e376ed\" stroke=\"#000000\" points=\"312,-53 173,-53 173,0 312,0 312,-53\"/>\n<text text-anchor=\"middle\" x=\"242.5\" y=\"-37.8\" font-family=\"Helvetica,sans-Serif\" font-size=\"14.00\" fill=\"#000000\">samples = 15</text>\n<text text-anchor=\"middle\" x=\"242.5\" y=\"-22.8\" font-family=\"Helvetica,sans-Serif\" font-size=\"14.00\" fill=\"#000000\">value = [0, 2, 2, 11]</text>\n<text text-anchor=\"middle\" x=\"242.5\" y=\"-7.8\" font-family=\"Helvetica,sans-Serif\" font-size=\"14.00\" fill=\"#000000\">class = 과체중</text>\n</g>\n<!-- 3&#45;&gt;5 -->\n<g id=\"edge5\" class=\"edge\">\n<title>3&#45;&gt;5</title>\n<path fill=\"none\" stroke=\"#000000\" d=\"M242.5,-88.9777C242.5,-80.7364 242.5,-71.887 242.5,-63.5153\"/>\n<polygon fill=\"#000000\" stroke=\"#000000\" points=\"246.0001,-63.2484 242.5,-53.2485 239.0001,-63.2485 246.0001,-63.2484\"/>\n</g>\n<!-- 7 -->\n<g id=\"node8\" class=\"node\">\n<title>7</title>\n<polygon fill=\"#6cea61\" stroke=\"#000000\" points=\"461,-53 330,-53 330,0 461,0 461,-53\"/>\n<text text-anchor=\"middle\" x=\"395.5\" y=\"-37.8\" font-family=\"Helvetica,sans-Serif\" font-size=\"14.00\" fill=\"#000000\">samples = 6</text>\n<text text-anchor=\"middle\" x=\"395.5\" y=\"-22.8\" font-family=\"Helvetica,sans-Serif\" font-size=\"14.00\" fill=\"#000000\">value = [0, 5, 0, 1]</text>\n<text text-anchor=\"middle\" x=\"395.5\" y=\"-7.8\" font-family=\"Helvetica,sans-Serif\" font-size=\"14.00\" fill=\"#000000\">class = 정상</text>\n</g>\n<!-- 6&#45;&gt;7 -->\n<g id=\"edge7\" class=\"edge\">\n<title>6&#45;&gt;7</title>\n<path fill=\"none\" stroke=\"#000000\" d=\"M454.4168,-88.9777C445.7817,-79.8207 436.4386,-69.9129 427.7922,-60.744\"/>\n<polygon fill=\"#000000\" stroke=\"#000000\" points=\"430.1311,-58.1226 420.724,-53.2485 425.0383,-62.9251 430.1311,-58.1226\"/>\n</g>\n<!-- 8 -->\n<g id=\"node9\" class=\"node\">\n<title>8</title>\n<polygon fill=\"#eea9f4\" stroke=\"#000000\" points=\"634,-53 479,-53 479,0 634,0 634,-53\"/>\n<text text-anchor=\"middle\" x=\"556.5\" y=\"-37.8\" font-family=\"Helvetica,sans-Serif\" font-size=\"14.00\" fill=\"#000000\">samples = 111</text>\n<text text-anchor=\"middle\" x=\"556.5\" y=\"-22.8\" font-family=\"Helvetica,sans-Serif\" font-size=\"14.00\" fill=\"#000000\">value = [0, 26, 22, 63]</text>\n<text text-anchor=\"middle\" x=\"556.5\" y=\"-7.8\" font-family=\"Helvetica,sans-Serif\" font-size=\"14.00\" fill=\"#000000\">class = 과체중</text>\n</g>\n<!-- 6&#45;&gt;8 -->\n<g id=\"edge8\" class=\"edge\">\n<title>6&#45;&gt;8</title>\n<path fill=\"none\" stroke=\"#000000\" d=\"M511.1794,-88.9777C517.6225,-80.0954 524.578,-70.5067 531.0598,-61.5711\"/>\n<polygon fill=\"#000000\" stroke=\"#000000\" points=\"534.0583,-63.3982 537.097,-53.2485 528.3921,-59.288 534.0583,-63.3982\"/>\n</g>\n<!-- 10 -->\n<g id=\"node11\" class=\"node\">\n<title>10</title>\n<polygon fill=\"#a0f299\" stroke=\"#000000\" points=\"1014.5,-157 826.5,-157 826.5,-89 1014.5,-89 1014.5,-157\"/>\n<text text-anchor=\"middle\" x=\"920.5\" y=\"-141.8\" font-family=\"Helvetica,sans-Serif\" font-size=\"14.00\" fill=\"#000000\">HDL &lt;= 69.5</text>\n<text text-anchor=\"middle\" x=\"920.5\" y=\"-126.8\" font-family=\"Helvetica,sans-Serif\" font-size=\"14.00\" fill=\"#000000\">samples = 632</text>\n<text text-anchor=\"middle\" x=\"920.5\" y=\"-111.8\" font-family=\"Helvetica,sans-Serif\" font-size=\"14.00\" fill=\"#000000\">value = [48, 377, 104, 103]</text>\n<text text-anchor=\"middle\" x=\"920.5\" y=\"-96.8\" font-family=\"Helvetica,sans-Serif\" font-size=\"14.00\" fill=\"#000000\">class = 정상</text>\n</g>\n<!-- 9&#45;&gt;10 -->\n<g id=\"edge10\" class=\"edge\">\n<title>9&#45;&gt;10</title>\n<path fill=\"none\" stroke=\"#000000\" d=\"M987.0837,-192.9465C978.4514,-183.8782 969.0289,-173.9799 960.0605,-164.5585\"/>\n<polygon fill=\"#000000\" stroke=\"#000000\" points=\"962.419,-161.9599 952.9891,-157.13 957.3489,-166.7863 962.419,-161.9599\"/>\n</g>\n<!-- 13 -->\n<g id=\"node14\" class=\"node\">\n<title>13</title>\n<polygon fill=\"#ddfada\" stroke=\"#000000\" points=\"1204.5,-157 1032.5,-157 1032.5,-89 1204.5,-89 1204.5,-157\"/>\n<text text-anchor=\"middle\" x=\"1118.5\" y=\"-141.8\" font-family=\"Helvetica,sans-Serif\" font-size=\"14.00\" fill=\"#000000\">GAMMA &lt;= 14.5</text>\n<text text-anchor=\"middle\" x=\"1118.5\" y=\"-126.8\" font-family=\"Helvetica,sans-Serif\" font-size=\"14.00\" fill=\"#000000\">samples = 255</text>\n<text text-anchor=\"middle\" x=\"1118.5\" y=\"-111.8\" font-family=\"Helvetica,sans-Serif\" font-size=\"14.00\" fill=\"#000000\">value = [12, 111, 54, 78]</text>\n<text text-anchor=\"middle\" x=\"1118.5\" y=\"-96.8\" font-family=\"Helvetica,sans-Serif\" font-size=\"14.00\" fill=\"#000000\">class = 정상</text>\n</g>\n<!-- 9&#45;&gt;13 -->\n<g id=\"edge13\" class=\"edge\">\n<title>9&#45;&gt;13</title>\n<path fill=\"none\" stroke=\"#000000\" d=\"M1051.9163,-192.9465C1060.5486,-183.8782 1069.9711,-173.9799 1078.9395,-164.5585\"/>\n<polygon fill=\"#000000\" stroke=\"#000000\" points=\"1081.6511,-166.7863 1086.0109,-157.13 1076.581,-161.9599 1081.6511,-166.7863\"/>\n</g>\n<!-- 11 -->\n<g id=\"node12\" class=\"node\">\n<title>11</title>\n<polygon fill=\"#a9f3a3\" stroke=\"#000000\" points=\"824.5,-53 652.5,-53 652.5,0 824.5,0 824.5,-53\"/>\n<text text-anchor=\"middle\" x=\"738.5\" y=\"-37.8\" font-family=\"Helvetica,sans-Serif\" font-size=\"14.00\" fill=\"#000000\">samples = 400</text>\n<text text-anchor=\"middle\" x=\"738.5\" y=\"-22.8\" font-family=\"Helvetica,sans-Serif\" font-size=\"14.00\" fill=\"#000000\">value = [14, 230, 74, 82]</text>\n<text text-anchor=\"middle\" x=\"738.5\" y=\"-7.8\" font-family=\"Helvetica,sans-Serif\" font-size=\"14.00\" fill=\"#000000\">class = 정상</text>\n</g>\n<!-- 10&#45;&gt;11 -->\n<g id=\"edge11\" class=\"edge\">\n<title>10&#45;&gt;11</title>\n<path fill=\"none\" stroke=\"#000000\" d=\"M856.3336,-88.9777C837.2485,-78.8584 816.434,-67.8222 797.6818,-57.8794\"/>\n<polygon fill=\"#000000\" stroke=\"#000000\" points=\"799.133,-54.6873 788.6585,-53.095 795.8539,-60.8718 799.133,-54.6873\"/>\n</g>\n<!-- 12 -->\n<g id=\"node13\" class=\"node\">\n<title>12</title>\n<polygon fill=\"#96f08e\" stroke=\"#000000\" points=\"1014.5,-53 842.5,-53 842.5,0 1014.5,0 1014.5,-53\"/>\n<text text-anchor=\"middle\" x=\"928.5\" y=\"-37.8\" font-family=\"Helvetica,sans-Serif\" font-size=\"14.00\" fill=\"#000000\">samples = 232</text>\n<text text-anchor=\"middle\" x=\"928.5\" y=\"-22.8\" font-family=\"Helvetica,sans-Serif\" font-size=\"14.00\" fill=\"#000000\">value = [34, 147, 30, 21]</text>\n<text text-anchor=\"middle\" x=\"928.5\" y=\"-7.8\" font-family=\"Helvetica,sans-Serif\" font-size=\"14.00\" fill=\"#000000\">class = 정상</text>\n</g>\n<!-- 10&#45;&gt;12 -->\n<g id=\"edge12\" class=\"edge\">\n<title>10&#45;&gt;12</title>\n<path fill=\"none\" stroke=\"#000000\" d=\"M923.3205,-88.9777C924.0113,-80.6449 924.7537,-71.6903 925.4545,-63.2364\"/>\n<polygon fill=\"#000000\" stroke=\"#000000\" points=\"928.9443,-63.5035 926.2825,-53.2485 921.9682,-62.9251 928.9443,-63.5035\"/>\n</g>\n<!-- 14 -->\n<g id=\"node15\" class=\"node\">\n<title>14</title>\n<polygon fill=\"#b0f4aa\" stroke=\"#000000\" points=\"1188,-53 1033,-53 1033,0 1188,0 1188,-53\"/>\n<text text-anchor=\"middle\" x=\"1110.5\" y=\"-37.8\" font-family=\"Helvetica,sans-Serif\" font-size=\"14.00\" fill=\"#000000\">samples = 109</text>\n<text text-anchor=\"middle\" x=\"1110.5\" y=\"-22.8\" font-family=\"Helvetica,sans-Serif\" font-size=\"14.00\" fill=\"#000000\">value = [9, 59, 20, 21]</text>\n<text text-anchor=\"middle\" x=\"1110.5\" y=\"-7.8\" font-family=\"Helvetica,sans-Serif\" font-size=\"14.00\" fill=\"#000000\">class = 정상</text>\n</g>\n<!-- 13&#45;&gt;14 -->\n<g id=\"edge14\" class=\"edge\">\n<title>13&#45;&gt;14</title>\n<path fill=\"none\" stroke=\"#000000\" d=\"M1115.6795,-88.9777C1114.9887,-80.6449 1114.2463,-71.6903 1113.5455,-63.2364\"/>\n<polygon fill=\"#000000\" stroke=\"#000000\" points=\"1117.0318,-62.9251 1112.7175,-53.2485 1110.0557,-63.5035 1117.0318,-62.9251\"/>\n</g>\n<!-- 15 -->\n<g id=\"node16\" class=\"node\">\n<title>15</title>\n<polygon fill=\"#fdf4fe\" stroke=\"#000000\" points=\"1361,-53 1206,-53 1206,0 1361,0 1361,-53\"/>\n<text text-anchor=\"middle\" x=\"1283.5\" y=\"-37.8\" font-family=\"Helvetica,sans-Serif\" font-size=\"14.00\" fill=\"#000000\">samples = 146</text>\n<text text-anchor=\"middle\" x=\"1283.5\" y=\"-22.8\" font-family=\"Helvetica,sans-Serif\" font-size=\"14.00\" fill=\"#000000\">value = [3, 52, 34, 57]</text>\n<text text-anchor=\"middle\" x=\"1283.5\" y=\"-7.8\" font-family=\"Helvetica,sans-Serif\" font-size=\"14.00\" fill=\"#000000\">class = 과체중</text>\n</g>\n<!-- 13&#45;&gt;15 -->\n<g id=\"edge15\" class=\"edge\">\n<title>13&#45;&gt;15</title>\n<path fill=\"none\" stroke=\"#000000\" d=\"M1176.6728,-88.9777C1193.818,-78.9504 1212.5025,-68.0228 1229.382,-58.1508\"/>\n<polygon fill=\"#000000\" stroke=\"#000000\" points=\"1231.1615,-61.1648 1238.0266,-53.095 1227.6276,-55.1223 1231.1615,-61.1648\"/>\n</g>\n<!-- 17 -->\n<g id=\"node18\" class=\"node\">\n<title>17</title>\n<polygon fill=\"#e4fbe2\" stroke=\"#000000\" points=\"1805.5,-261 1625.5,-261 1625.5,-193 1805.5,-193 1805.5,-261\"/>\n<text text-anchor=\"middle\" x=\"1715.5\" y=\"-245.8\" font-family=\"Helvetica,sans-Serif\" font-size=\"14.00\" fill=\"#000000\">ALT &lt;= 23.5</text>\n<text text-anchor=\"middle\" x=\"1715.5\" y=\"-230.8\" font-family=\"Helvetica,sans-Serif\" font-size=\"14.00\" fill=\"#000000\">samples = 347</text>\n<text text-anchor=\"middle\" x=\"1715.5\" y=\"-215.8\" font-family=\"Helvetica,sans-Serif\" font-size=\"14.00\" fill=\"#000000\">value = [12, 146, 78, 111]</text>\n<text text-anchor=\"middle\" x=\"1715.5\" y=\"-200.8\" font-family=\"Helvetica,sans-Serif\" font-size=\"14.00\" fill=\"#000000\">class = 정상</text>\n</g>\n<!-- 16&#45;&gt;17 -->\n<g id=\"edge17\" class=\"edge\">\n<title>16&#45;&gt;17</title>\n<path fill=\"none\" stroke=\"#000000\" d=\"M1715.5,-296.9465C1715.5,-288.776 1715.5,-279.9318 1715.5,-271.3697\"/>\n<polygon fill=\"#000000\" stroke=\"#000000\" points=\"1719.0001,-271.13 1715.5,-261.13 1712.0001,-271.13 1719.0001,-271.13\"/>\n</g>\n<!-- 24 -->\n<g id=\"node25\" class=\"node\">\n<title>24</title>\n<polygon fill=\"#f1b8f6\" stroke=\"#000000\" points=\"2330.5,-261 2142.5,-261 2142.5,-193 2330.5,-193 2330.5,-261\"/>\n<text text-anchor=\"middle\" x=\"2236.5\" y=\"-245.8\" font-family=\"Helvetica,sans-Serif\" font-size=\"14.00\" fill=\"#000000\">C_PRES &lt;= 136.5</text>\n<text text-anchor=\"middle\" x=\"2236.5\" y=\"-230.8\" font-family=\"Helvetica,sans-Serif\" font-size=\"14.00\" fill=\"#000000\">samples = 985</text>\n<text text-anchor=\"middle\" x=\"2236.5\" y=\"-215.8\" font-family=\"Helvetica,sans-Serif\" font-size=\"14.00\" fill=\"#000000\">value = [11, 240, 227, 507]</text>\n<text text-anchor=\"middle\" x=\"2236.5\" y=\"-200.8\" font-family=\"Helvetica,sans-Serif\" font-size=\"14.00\" fill=\"#000000\">class = 과체중</text>\n</g>\n<!-- 16&#45;&gt;24 -->\n<g id=\"edge24\" class=\"edge\">\n<title>16&#45;&gt;24</title>\n<path fill=\"none\" stroke=\"#000000\" d=\"M1809.5475,-312.2266C1900.5593,-294.0592 2038.2139,-266.5811 2132.4624,-247.7676\"/>\n<polygon fill=\"#000000\" stroke=\"#000000\" points=\"2133.1801,-251.1935 2142.3014,-245.8036 2131.8097,-244.3289 2133.1801,-251.1935\"/>\n</g>\n<!-- 18 -->\n<g id=\"node19\" class=\"node\">\n<title>18</title>\n<polygon fill=\"#c0f6bc\" stroke=\"#000000\" points=\"1707,-157 1552,-157 1552,-89 1707,-89 1707,-157\"/>\n<text text-anchor=\"middle\" x=\"1629.5\" y=\"-141.8\" font-family=\"Helvetica,sans-Serif\" font-size=\"14.00\" fill=\"#000000\">GAMMA &lt;= 27.5</text>\n<text text-anchor=\"middle\" x=\"1629.5\" y=\"-126.8\" font-family=\"Helvetica,sans-Serif\" font-size=\"14.00\" fill=\"#000000\">samples = 200</text>\n<text text-anchor=\"middle\" x=\"1629.5\" y=\"-111.8\" font-family=\"Helvetica,sans-Serif\" font-size=\"14.00\" fill=\"#000000\">value = [8, 99, 46, 47]</text>\n<text text-anchor=\"middle\" x=\"1629.5\" y=\"-96.8\" font-family=\"Helvetica,sans-Serif\" font-size=\"14.00\" fill=\"#000000\">class = 정상</text>\n</g>\n<!-- 17&#45;&gt;18 -->\n<g id=\"edge18\" class=\"edge\">\n<title>17&#45;&gt;18</title>\n<path fill=\"none\" stroke=\"#000000\" d=\"M1687.3404,-192.9465C1679.9158,-183.968 1671.8185,-174.1758 1664.0972,-164.8385\"/>\n<polygon fill=\"#000000\" stroke=\"#000000\" points=\"1666.7928,-162.606 1657.7229,-157.13 1661.3983,-167.0669 1666.7928,-162.606\"/>\n</g>\n<!-- 21 -->\n<g id=\"node22\" class=\"node\">\n<title>21</title>\n<polygon fill=\"#f8ddfb\" stroke=\"#000000\" points=\"1880,-157 1725,-157 1725,-89 1880,-89 1880,-157\"/>\n<text text-anchor=\"middle\" x=\"1802.5\" y=\"-141.8\" font-family=\"Helvetica,sans-Serif\" font-size=\"14.00\" fill=\"#000000\">GAMMA &lt;= 53.5</text>\n<text text-anchor=\"middle\" x=\"1802.5\" y=\"-126.8\" font-family=\"Helvetica,sans-Serif\" font-size=\"14.00\" fill=\"#000000\">samples = 147</text>\n<text text-anchor=\"middle\" x=\"1802.5\" y=\"-111.8\" font-family=\"Helvetica,sans-Serif\" font-size=\"14.00\" fill=\"#000000\">value = [4, 47, 32, 64]</text>\n<text text-anchor=\"middle\" x=\"1802.5\" y=\"-96.8\" font-family=\"Helvetica,sans-Serif\" font-size=\"14.00\" fill=\"#000000\">class = 과체중</text>\n</g>\n<!-- 17&#45;&gt;21 -->\n<g id=\"edge21\" class=\"edge\">\n<title>17&#45;&gt;21</title>\n<path fill=\"none\" stroke=\"#000000\" d=\"M1743.9871,-192.9465C1751.4979,-183.968 1759.6895,-174.1758 1767.5005,-164.8385\"/>\n<polygon fill=\"#000000\" stroke=\"#000000\" points=\"1770.2171,-167.0459 1773.9489,-157.13 1764.848,-162.5544 1770.2171,-167.0459\"/>\n</g>\n<!-- 19 -->\n<g id=\"node20\" class=\"node\">\n<title>19</title>\n<polygon fill=\"#bbf5b6\" stroke=\"#000000\" points=\"1534,-53 1379,-53 1379,0 1534,0 1534,-53\"/>\n<text text-anchor=\"middle\" x=\"1456.5\" y=\"-37.8\" font-family=\"Helvetica,sans-Serif\" font-size=\"14.00\" fill=\"#000000\">samples = 112</text>\n<text text-anchor=\"middle\" x=\"1456.5\" y=\"-22.8\" font-family=\"Helvetica,sans-Serif\" font-size=\"14.00\" fill=\"#000000\">value = [4, 61, 31, 16]</text>\n<text text-anchor=\"middle\" x=\"1456.5\" y=\"-7.8\" font-family=\"Helvetica,sans-Serif\" font-size=\"14.00\" fill=\"#000000\">class = 정상</text>\n</g>\n<!-- 18&#45;&gt;19 -->\n<g id=\"edge19\" class=\"edge\">\n<title>18&#45;&gt;19</title>\n<path fill=\"none\" stroke=\"#000000\" d=\"M1568.5067,-88.9777C1550.5303,-78.9504 1530.9398,-68.0228 1513.2419,-58.1508\"/>\n<polygon fill=\"#000000\" stroke=\"#000000\" points=\"1514.6164,-54.9099 1504.1781,-53.095 1511.2064,-61.0231 1514.6164,-54.9099\"/>\n</g>\n<!-- 20 -->\n<g id=\"node21\" class=\"node\">\n<title>20</title>\n<polygon fill=\"#e8fce7\" stroke=\"#000000\" points=\"1707,-53 1552,-53 1552,0 1707,0 1707,-53\"/>\n<text text-anchor=\"middle\" x=\"1629.5\" y=\"-37.8\" font-family=\"Helvetica,sans-Serif\" font-size=\"14.00\" fill=\"#000000\">samples = 88</text>\n<text text-anchor=\"middle\" x=\"1629.5\" y=\"-22.8\" font-family=\"Helvetica,sans-Serif\" font-size=\"14.00\" fill=\"#000000\">value = [4, 38, 15, 31]</text>\n<text text-anchor=\"middle\" x=\"1629.5\" y=\"-7.8\" font-family=\"Helvetica,sans-Serif\" font-size=\"14.00\" fill=\"#000000\">class = 정상</text>\n</g>\n<!-- 18&#45;&gt;20 -->\n<g id=\"edge20\" class=\"edge\">\n<title>18&#45;&gt;20</title>\n<path fill=\"none\" stroke=\"#000000\" d=\"M1629.5,-88.9777C1629.5,-80.7364 1629.5,-71.887 1629.5,-63.5153\"/>\n<polygon fill=\"#000000\" stroke=\"#000000\" points=\"1633.0001,-63.2484 1629.5,-53.2485 1626.0001,-63.2485 1633.0001,-63.2484\"/>\n</g>\n<!-- 22 -->\n<g id=\"node23\" class=\"node\">\n<title>22</title>\n<polygon fill=\"#f4c8f8\" stroke=\"#000000\" points=\"1880,-53 1725,-53 1725,0 1880,0 1880,-53\"/>\n<text text-anchor=\"middle\" x=\"1802.5\" y=\"-37.8\" font-family=\"Helvetica,sans-Serif\" font-size=\"14.00\" fill=\"#000000\">samples = 127</text>\n<text text-anchor=\"middle\" x=\"1802.5\" y=\"-22.8\" font-family=\"Helvetica,sans-Serif\" font-size=\"14.00\" fill=\"#000000\">value = [4, 37, 24, 62]</text>\n<text text-anchor=\"middle\" x=\"1802.5\" y=\"-7.8\" font-family=\"Helvetica,sans-Serif\" font-size=\"14.00\" fill=\"#000000\">class = 과체중</text>\n</g>\n<!-- 21&#45;&gt;22 -->\n<g id=\"edge22\" class=\"edge\">\n<title>21&#45;&gt;22</title>\n<path fill=\"none\" stroke=\"#000000\" d=\"M1802.5,-88.9777C1802.5,-80.7364 1802.5,-71.887 1802.5,-63.5153\"/>\n<polygon fill=\"#000000\" stroke=\"#000000\" points=\"1806.0001,-63.2484 1802.5,-53.2485 1799.0001,-63.2485 1806.0001,-63.2484\"/>\n</g>\n<!-- 23 -->\n<g id=\"node24\" class=\"node\">\n<title>23</title>\n<polygon fill=\"#e0fbde\" stroke=\"#000000\" points=\"2037,-53 1898,-53 1898,0 2037,0 2037,-53\"/>\n<text text-anchor=\"middle\" x=\"1967.5\" y=\"-37.8\" font-family=\"Helvetica,sans-Serif\" font-size=\"14.00\" fill=\"#000000\">samples = 20</text>\n<text text-anchor=\"middle\" x=\"1967.5\" y=\"-22.8\" font-family=\"Helvetica,sans-Serif\" font-size=\"14.00\" fill=\"#000000\">value = [0, 10, 8, 2]</text>\n<text text-anchor=\"middle\" x=\"1967.5\" y=\"-7.8\" font-family=\"Helvetica,sans-Serif\" font-size=\"14.00\" fill=\"#000000\">class = 정상</text>\n</g>\n<!-- 21&#45;&gt;23 -->\n<g id=\"edge23\" class=\"edge\">\n<title>21&#45;&gt;23</title>\n<path fill=\"none\" stroke=\"#000000\" d=\"M1860.6728,-88.9777C1877.818,-78.9504 1896.5025,-68.0228 1913.382,-58.1508\"/>\n<polygon fill=\"#000000\" stroke=\"#000000\" points=\"1915.1615,-61.1648 1922.0266,-53.095 1911.6276,-55.1223 1915.1615,-61.1648\"/>\n</g>\n<!-- 25 -->\n<g id=\"node26\" class=\"node\">\n<title>25</title>\n<polygon fill=\"#f5cbf8\" stroke=\"#000000\" points=\"2326.5,-157 2146.5,-157 2146.5,-89 2326.5,-89 2326.5,-157\"/>\n<text text-anchor=\"middle\" x=\"2236.5\" y=\"-141.8\" font-family=\"Helvetica,sans-Serif\" font-size=\"14.00\" fill=\"#000000\">ALT &lt;= 26.5</text>\n<text text-anchor=\"middle\" x=\"2236.5\" y=\"-126.8\" font-family=\"Helvetica,sans-Serif\" font-size=\"14.00\" fill=\"#000000\">samples = 685</text>\n<text text-anchor=\"middle\" x=\"2236.5\" y=\"-111.8\" font-family=\"Helvetica,sans-Serif\" font-size=\"14.00\" fill=\"#000000\">value = [9, 188, 170, 318]</text>\n<text text-anchor=\"middle\" x=\"2236.5\" y=\"-96.8\" font-family=\"Helvetica,sans-Serif\" font-size=\"14.00\" fill=\"#000000\">class = 과체중</text>\n</g>\n<!-- 24&#45;&gt;25 -->\n<g id=\"edge25\" class=\"edge\">\n<title>24&#45;&gt;25</title>\n<path fill=\"none\" stroke=\"#000000\" d=\"M2236.5,-192.9465C2236.5,-184.776 2236.5,-175.9318 2236.5,-167.3697\"/>\n<polygon fill=\"#000000\" stroke=\"#000000\" points=\"2240.0001,-167.13 2236.5,-157.13 2233.0001,-167.13 2240.0001,-167.13\"/>\n</g>\n<!-- 28 -->\n<g id=\"node29\" class=\"node\">\n<title>28</title>\n<polygon fill=\"#e993f1\" stroke=\"#000000\" points=\"2599.5,-157 2435.5,-157 2435.5,-89 2599.5,-89 2599.5,-157\"/>\n<text text-anchor=\"middle\" x=\"2517.5\" y=\"-141.8\" font-family=\"Helvetica,sans-Serif\" font-size=\"14.00\" fill=\"#000000\">SMOKE &lt;= 1.5</text>\n<text text-anchor=\"middle\" x=\"2517.5\" y=\"-126.8\" font-family=\"Helvetica,sans-Serif\" font-size=\"14.00\" fill=\"#000000\">samples = 300</text>\n<text text-anchor=\"middle\" x=\"2517.5\" y=\"-111.8\" font-family=\"Helvetica,sans-Serif\" font-size=\"14.00\" fill=\"#000000\">value = [2, 52, 57, 189]</text>\n<text text-anchor=\"middle\" x=\"2517.5\" y=\"-96.8\" font-family=\"Helvetica,sans-Serif\" font-size=\"14.00\" fill=\"#000000\">class = 과체중</text>\n</g>\n<!-- 24&#45;&gt;28 -->\n<g id=\"edge28\" class=\"edge\">\n<title>24&#45;&gt;28</title>\n<path fill=\"none\" stroke=\"#000000\" d=\"M2328.5099,-192.9465C2359.6969,-181.404 2394.517,-168.5168 2425.6885,-156.98\"/>\n<polygon fill=\"#000000\" stroke=\"#000000\" points=\"2427.0738,-160.1994 2435.2373,-153.446 2424.6441,-153.6346 2427.0738,-160.1994\"/>\n</g>\n<!-- 26 -->\n<g id=\"node27\" class=\"node\">\n<title>26</title>\n<polygon fill=\"#fae8fc\" stroke=\"#000000\" points=\"2235.5,-53 2055.5,-53 2055.5,0 2235.5,0 2235.5,-53\"/>\n<text text-anchor=\"middle\" x=\"2145.5\" y=\"-37.8\" font-family=\"Helvetica,sans-Serif\" font-size=\"14.00\" fill=\"#000000\">samples = 406</text>\n<text text-anchor=\"middle\" x=\"2145.5\" y=\"-22.8\" font-family=\"Helvetica,sans-Serif\" font-size=\"14.00\" fill=\"#000000\">value = [7, 129, 109, 161]</text>\n<text text-anchor=\"middle\" x=\"2145.5\" y=\"-7.8\" font-family=\"Helvetica,sans-Serif\" font-size=\"14.00\" fill=\"#000000\">class = 과체중</text>\n</g>\n<!-- 25&#45;&gt;26 -->\n<g id=\"edge26\" class=\"edge\">\n<title>25&#45;&gt;26</title>\n<path fill=\"none\" stroke=\"#000000\" d=\"M2204.4168,-88.9777C2195.7817,-79.8207 2186.4386,-69.9129 2177.7922,-60.744\"/>\n<polygon fill=\"#000000\" stroke=\"#000000\" points=\"2180.1311,-58.1226 2170.724,-53.2485 2175.0383,-62.9251 2180.1311,-58.1226\"/>\n</g>\n<!-- 27 -->\n<g id=\"node28\" class=\"node\">\n<title>27</title>\n<polygon fill=\"#eda8f4\" stroke=\"#000000\" points=\"2417.5,-53 2253.5,-53 2253.5,0 2417.5,0 2417.5,-53\"/>\n<text text-anchor=\"middle\" x=\"2335.5\" y=\"-37.8\" font-family=\"Helvetica,sans-Serif\" font-size=\"14.00\" fill=\"#000000\">samples = 279</text>\n<text text-anchor=\"middle\" x=\"2335.5\" y=\"-22.8\" font-family=\"Helvetica,sans-Serif\" font-size=\"14.00\" fill=\"#000000\">value = [2, 59, 61, 157]</text>\n<text text-anchor=\"middle\" x=\"2335.5\" y=\"-7.8\" font-family=\"Helvetica,sans-Serif\" font-size=\"14.00\" fill=\"#000000\">class = 과체중</text>\n</g>\n<!-- 25&#45;&gt;27 -->\n<g id=\"edge27\" class=\"edge\">\n<title>25&#45;&gt;27</title>\n<path fill=\"none\" stroke=\"#000000\" d=\"M2271.4037,-88.9777C2280.8918,-79.7292 2291.1657,-69.7147 2300.6509,-60.4691\"/>\n<polygon fill=\"#000000\" stroke=\"#000000\" points=\"2303.3407,-62.7349 2308.0586,-53.2485 2298.4546,-57.7223 2303.3407,-62.7349\"/>\n</g>\n<!-- 29 -->\n<g id=\"node30\" class=\"node\">\n<title>29</title>\n<polygon fill=\"#eda4f3\" stroke=\"#000000\" points=\"2599.5,-53 2435.5,-53 2435.5,0 2599.5,0 2599.5,-53\"/>\n<text text-anchor=\"middle\" x=\"2517.5\" y=\"-37.8\" font-family=\"Helvetica,sans-Serif\" font-size=\"14.00\" fill=\"#000000\">samples = 233</text>\n<text text-anchor=\"middle\" x=\"2517.5\" y=\"-22.8\" font-family=\"Helvetica,sans-Serif\" font-size=\"14.00\" fill=\"#000000\">value = [0, 43, 54, 136]</text>\n<text text-anchor=\"middle\" x=\"2517.5\" y=\"-7.8\" font-family=\"Helvetica,sans-Serif\" font-size=\"14.00\" fill=\"#000000\">class = 과체중</text>\n</g>\n<!-- 28&#45;&gt;29 -->\n<g id=\"edge29\" class=\"edge\">\n<title>28&#45;&gt;29</title>\n<path fill=\"none\" stroke=\"#000000\" d=\"M2517.5,-88.9777C2517.5,-80.7364 2517.5,-71.887 2517.5,-63.5153\"/>\n<polygon fill=\"#000000\" stroke=\"#000000\" points=\"2521.0001,-63.2484 2517.5,-53.2485 2514.0001,-63.2485 2521.0001,-63.2484\"/>\n</g>\n<!-- 30 -->\n<g id=\"node31\" class=\"node\">\n<title>30</title>\n<polygon fill=\"#e169eb\" stroke=\"#000000\" points=\"2757,-53 2618,-53 2618,0 2757,0 2757,-53\"/>\n<text text-anchor=\"middle\" x=\"2687.5\" y=\"-37.8\" font-family=\"Helvetica,sans-Serif\" font-size=\"14.00\" fill=\"#000000\">samples = 67</text>\n<text text-anchor=\"middle\" x=\"2687.5\" y=\"-22.8\" font-family=\"Helvetica,sans-Serif\" font-size=\"14.00\" fill=\"#000000\">value = [2, 9, 3, 53]</text>\n<text text-anchor=\"middle\" x=\"2687.5\" y=\"-7.8\" font-family=\"Helvetica,sans-Serif\" font-size=\"14.00\" fill=\"#000000\">class = 과체중</text>\n</g>\n<!-- 28&#45;&gt;30 -->\n<g id=\"edge30\" class=\"edge\">\n<title>28&#45;&gt;30</title>\n<path fill=\"none\" stroke=\"#000000\" d=\"M2577.4356,-88.9777C2595.1003,-78.9504 2614.3511,-68.0228 2631.7421,-58.1508\"/>\n<polygon fill=\"#000000\" stroke=\"#000000\" points=\"2633.6799,-61.0755 2640.6487,-53.095 2630.2243,-54.9879 2633.6799,-61.0755\"/>\n</g>\n</g>\n</svg>\n"
          },
          "metadata": {}
        }
      ]
    },
    {
      "cell_type": "code",
      "source": [
        "result = tree.feature_importances_\n",
        "print(\"변수의 중요도:\\n\", result)"
      ],
      "metadata": {
        "colab": {
          "base_uri": "https://localhost:8080/"
        },
        "id": "fMsoPODxx6b1",
        "outputId": "d56c377b-f3e9-48bb-e07a-eb5eb0faf18b"
      },
      "execution_count": null,
      "outputs": [
        {
          "output_type": "stream",
          "name": "stdout",
          "text": [
            "변수의 중요도:\n",
            " [0.22521289 0.02017916 0.         0.15994331 0.         0.02364594\n",
            " 0.111903   0.43225949 0.02685621]\n"
          ]
        }
      ]
    },
    {
      "cell_type": "code",
      "source": [
        "\n",
        "import numpy as np\n",
        "\n",
        "def plot_feature_importances_df(model):\n",
        "    plt.rcParams[\"figure.figsize\"] = (9,6)\n",
        "    n_features = len(df.columns[5:14])  \n",
        "    plt.barh(np.arange(n_features), model.feature_importances_, align='center') \n",
        "    plt.yticks(np.arange(n_features), df.columns[5:14]) \n",
        "    plt.xlabel(\"feature importance\")\n",
        "    plt.ylabel(\"feature\")\n",
        "    plt.ylim(-1, n_features) \n",
        "\n",
        "plot_feature_importances_df(tree)"
      ],
      "metadata": {
        "colab": {
          "base_uri": "https://localhost:8080/",
          "height": 388
        },
        "id": "8_PYn4_cy2ti",
        "outputId": "c804fbcf-c6db-46ca-fed8-7791a6f8be42"
      },
      "execution_count": null,
      "outputs": [
        {
          "output_type": "display_data",
          "data": {
            "text/plain": [
              "<Figure size 648x432 with 1 Axes>"
            ],
            "image/png": "[encoded data removed]"
          },
          "metadata": {
            "needs_background": "light"
          }
        }
      ]
    },
    {
      "cell_type": "markdown",
      "source": [
        "GAMMA 와 C_PRES, HDL이 BMI 지수에 가장 많은 영향을 미쳤음을 확인할 수 있다. "
      ],
      "metadata": {
        "id": "XIHv9Yy_AkKC"
      }
    },
    {
      "cell_type": "code",
      "source": [
        "res = pd.DataFrame(result)\n",
        "res[\"name\"] = df.columns[5:14]\n",
        "display(res.info())\n",
        "\n",
        "# perimeter_worst의 비중이 가장 큼, 루트 노드에서 이 값부터 사용 \n",
        "display(res.sort_values(by='name'))  "
      ],
      "metadata": {
        "colab": {
          "base_uri": "https://localhost:8080/",
          "height": 513
        },
        "id": "QWeQjPsl7WoH",
        "outputId": "a8b30d3c-d30f-4b61-f308-e3178f4d186a"
      },
      "execution_count": null,
      "outputs": [
        {
          "output_type": "stream",
          "name": "stdout",
          "text": [
            "<class 'pandas.core.frame.DataFrame'>\n",
            "RangeIndex: 9 entries, 0 to 8\n",
            "Data columns (total 2 columns):\n",
            " #   Column  Non-Null Count  Dtype  \n",
            "---  ------  --------------  -----  \n",
            " 0   0       9 non-null      float64\n",
            " 1   name    9 non-null      object \n",
            "dtypes: float64(1), object(1)\n",
            "memory usage: 272.0+ bytes\n"
          ]
        },
        {
          "output_type": "display_data",
          "data": {
            "text/plain": [
              "None"
            ]
          },
          "metadata": {}
        },
        {
          "output_type": "display_data",
          "data": {
            "text/plain": [
              "          0     name\n",
              "6  0.111903      ALT\n",
              "5  0.023646      AST\n",
              "0  0.225213   C_PRES\n",
              "1  0.020179   E_PRES\n",
              "7  0.432259    GAMMA\n",
              "3  0.159943      HDL\n",
              "4  0.000000      LDL\n",
              "8  0.026856    SMOKE\n",
              "2  0.000000  TOT_COL"
            ],
            "text/html": [
              "\n",
              "  <div id=\"df-bcd216c7-f8f5-4270-96fc-671e1251bfc9\">\n",
              "    <div class=\"colab-df-container\">\n",
              "      <div>\n",
              "<style scoped>\n",
              "    .dataframe tbody tr th:only-of-type {\n",
              "        vertical-align: middle;\n",
              "    }\n",
              "\n",
              "    .dataframe tbody tr th {\n",
              "        vertical-align: top;\n",
              "    }\n",
              "\n",
              "    .dataframe thead th {\n",
              "        text-align: right;\n",
              "    }\n",
              "</style>\n",
              "<table border=\"1\" class=\"dataframe\">\n",
              "  <thead>\n",
              "    <tr style=\"text-align: right;\">\n",
              "      <th></th>\n",
              "      <th>0</th>\n",
              "      <th>name</th>\n",
              "    </tr>\n",
              "  </thead>\n",
              "  <tbody>\n",
              "    <tr>\n",
              "      <th>6</th>\n",
              "      <td>0.111903</td>\n",
              "      <td>ALT</td>\n",
              "    </tr>\n",
              "    <tr>\n",
              "      <th>5</th>\n",
              "      <td>0.023646</td>\n",
              "      <td>AST</td>\n",
              "    </tr>\n",
              "    <tr>\n",
              "      <th>0</th>\n",
              "      <td>0.225213</td>\n",
              "      <td>C_PRES</td>\n",
              "    </tr>\n",
              "    <tr>\n",
              "      <th>1</th>\n",
              "      <td>0.020179</td>\n",
              "      <td>E_PRES</td>\n",
              "    </tr>\n",
              "    <tr>\n",
              "      <th>7</th>\n",
              "      <td>0.432259</td>\n",
              "      <td>GAMMA</td>\n",
              "    </tr>\n",
              "    <tr>\n",
              "      <th>3</th>\n",
              "      <td>0.159943</td>\n",
              "      <td>HDL</td>\n",
              "    </tr>\n",
              "    <tr>\n",
              "      <th>4</th>\n",
              "      <td>0.000000</td>\n",
              "      <td>LDL</td>\n",
              "    </tr>\n",
              "    <tr>\n",
              "      <th>8</th>\n",
              "      <td>0.026856</td>\n",
              "      <td>SMOKE</td>\n",
              "    </tr>\n",
              "    <tr>\n",
              "      <th>2</th>\n",
              "      <td>0.000000</td>\n",
              "      <td>TOT_COL</td>\n",
              "    </tr>\n",
              "  </tbody>\n",
              "</table>\n",
              "</div>\n",
              "      <button class=\"colab-df-convert\" onclick=\"convertToInteractive('df-bcd216c7-f8f5-4270-96fc-671e1251bfc9')\"\n",
              "              title=\"Convert this dataframe to an interactive table.\"\n",
              "              style=\"display:none;\">\n",
              "        \n",
              "  <svg xmlns=\"http://www.w3.org/2000/svg\" height=\"24px\"viewBox=\"0 0 24 24\"\n",
              "       width=\"24px\">\n",
              "    <path d=\"M0 0h24v24H0V0z\" fill=\"none\"/>\n",
              "    <path d=\"M18.56 5.44l.94 2.06.94-2.06 2.06-.94-2.06-.94-.94-2.06-.94 2.06-2.06.94zm-11 1L8.5 8.5l.94-2.06 2.06-.94-2.06-.94L8.5 2.5l-.94 2.06-2.06.94zm10 10l.94 2.06.94-2.06 2.06-.94-2.06-.94-.94-2.06-.94 2.06-2.06.94z\"/><path d=\"M17.41 7.96l-1.37-1.37c-.4-.4-.92-.59-1.43-.59-.52 0-1.04.2-1.43.59L10.3 9.45l-7.72 7.72c-.78.78-.78 2.05 0 2.83L4 21.41c.39.39.9.59 1.41.59.51 0 1.02-.2 1.41-.59l7.78-7.78 2.81-2.81c.8-.78.8-2.07 0-2.86zM5.41 20L4 18.59l7.72-7.72 1.47 1.35L5.41 20z\"/>\n",
              "  </svg>\n",
              "      </button>\n",
              "      \n",
              "  <style>\n",
              "    .colab-df-container {\n",
              "      display:flex;\n",
              "      flex-wrap:wrap;\n",
              "      gap: 12px;\n",
              "    }\n",
              "\n",
              "    .colab-df-convert {\n",
              "      background-color: #E8F0FE;\n",
              "      border: none;\n",
              "      border-radius: 50%;\n",
              "      cursor: pointer;\n",
              "      display: none;\n",
              "      fill: #1967D2;\n",
              "      height: 32px;\n",
              "      padding: 0 0 0 0;\n",
              "      width: 32px;\n",
              "    }\n",
              "\n",
              "    .colab-df-convert:hover {\n",
              "      background-color: #E2EBFA;\n",
              "      box-shadow: 0px 1px 2px rgba(60, 64, 67, 0.3), 0px 1px 3px 1px rgba(60, 64, 67, 0.15);\n",
              "      fill: #174EA6;\n",
              "    }\n",
              "\n",
              "    [theme=dark] .colab-df-convert {\n",
              "      background-color: #3B4455;\n",
              "      fill: #D2E3FC;\n",
              "    }\n",
              "\n",
              "    [theme=dark] .colab-df-convert:hover {\n",
              "      background-color: #434B5C;\n",
              "      box-shadow: 0px 1px 3px 1px rgba(0, 0, 0, 0.15);\n",
              "      filter: drop-shadow(0px 1px 2px rgba(0, 0, 0, 0.3));\n",
              "      fill: #FFFFFF;\n",
              "    }\n",
              "  </style>\n",
              "\n",
              "      <script>\n",
              "        const buttonEl =\n",
              "          document.querySelector('#df-bcd216c7-f8f5-4270-96fc-671e1251bfc9 button.colab-df-convert');\n",
              "        buttonEl.style.display =\n",
              "          google.colab.kernel.accessAllowed ? 'block' : 'none';\n",
              "\n",
              "        async function convertToInteractive(key) {\n",
              "          const element = document.querySelector('#df-bcd216c7-f8f5-4270-96fc-671e1251bfc9');\n",
              "          const dataTable =\n",
              "            await google.colab.kernel.invokeFunction('convertToInteractive',\n",
              "                                                     [key], {});\n",
              "          if (!dataTable) return;\n",
              "\n",
              "          const docLinkHtml = 'Like what you see? Visit the ' +\n",
              "            '<a target=\"_blank\" href=https://colab.research.google.com/notebooks/data_table.ipynb>data table notebook</a>'\n",
              "            + ' to learn more about interactive tables.';\n",
              "          element.innerHTML = '';\n",
              "          dataTable['output_type'] = 'display_data';\n",
              "          await google.colab.output.renderOutput(dataTable, element);\n",
              "          const docLink = document.createElement('div');\n",
              "          docLink.innerHTML = docLinkHtml;\n",
              "          element.appendChild(docLink);\n",
              "        }\n",
              "      </script>\n",
              "    </div>\n",
              "  </div>\n",
              "  "
            ]
          },
          "metadata": {}
        }
      ]
    },
    {
      "cell_type": "code",
      "source": [
        "from sklearn.ensemble import RandomForestClassifier\n",
        "\n",
        "\n",
        "forest = RandomForestClassifier(n_estimators=5, random_state=2)\n",
        "forest.fit(X_train.iloc[:,0:2], y_train)\n",
        "\n",
        "fig, axes = plt.subplots(2, 3, figsize=(20, 10))\n",
        "for i, (ax, tree) in enumerate(zip(axes.ravel(), forest.estimators_)):\n",
        "    ax.set_title(\"Tree {}\".format(i))\n",
        "    mglearn.plots.plot_tree_partition(X.iloc[:,0:2].values, y, tree, ax=ax)\n",
        "    \n",
        "mglearn.plots.plot_2d_separator(forest, X.iloc[:,0:2].values, fill=True, ax=axes[-1, -1], alpha=.4)\n",
        "axes[-1, -1].set_title(\"Random forest\")\n",
        "mglearn.discrete_scatter(X.iloc[:, 0], X.iloc[:, 1], y)\n",
        "plt.show()"
      ],
      "metadata": {
        "colab": {
          "base_uri": "https://localhost:8080/",
          "height": 419
        },
        "id": "fpZT2K387n-S",
        "outputId": "057f4891-fb51-4bea-935c-8fa08424ae76"
      },
      "execution_count": null,
      "outputs": [
        {
          "output_type": "stream",
          "name": "stderr",
          "text": [
            "/usr/local/lib/python3.7/dist-packages/sklearn/base.py:451: UserWarning: X does not have valid feature names, but RandomForestClassifier was fitted with feature names\n",
            "  \"X does not have valid feature names, but\"\n"
          ]
        },
        {
          "output_type": "display_data",
          "data": {
            "text/plain": [
              "<Figure size 1440x720 with 6 Axes>"
            ],
            "image/png": "[encoded data removed]"
          },
          "metadata": {}
        }
      ]
    },
    {
      "cell_type": "code",
      "source": [
        "forest = RandomForestClassifier(n_estimators=100, random_state=0)\n",
        "forest.fit(X_train, y_train)\n",
        "\n",
        "print(\"학습용 데이터 세트 정확도: {:.3f}\".format(forest.score(X_train, y_train)))\n",
        "print(\"시험용 데이터 세트 정확도: {:.3f}\".format(forest.score(X_test, y_test)))"
      ],
      "metadata": {
        "colab": {
          "base_uri": "https://localhost:8080/"
        },
        "id": "SxkyNq3z90F2",
        "outputId": "757c629e-f3b4-4273-96b3-85023fcb5226"
      },
      "execution_count": null,
      "outputs": [
        {
          "output_type": "stream",
          "name": "stdout",
          "text": [
            "학습용 데이터 세트 정확도: 1.000\n",
            "시험용 데이터 세트 정확도: 0.501\n"
          ]
        }
      ]
    },
    {
      "cell_type": "code",
      "source": [
        "plot_feature_importances_df(forest)\n"
      ],
      "metadata": {
        "colab": {
          "base_uri": "https://localhost:8080/",
          "height": 388
        },
        "id": "McVU1KNM-Eat",
        "outputId": "eab9a7d5-57d1-40a2-d1da-9e6ffe7c2332"
      },
      "execution_count": null,
      "outputs": [
        {
          "output_type": "display_data",
          "data": {
            "text/plain": [
              "<Figure size 648x432 with 1 Axes>"
            ],
            "image/png": "[encoded data removed]"
          },
          "metadata": {
            "needs_background": "light"
          }
        }
      ]
    },
    {
      "cell_type": "markdown",
      "source": [
        "랜덤포레스트를 사용한 결과 HDL,GAMMA,C_PRES의 영향이 높은 것으로 나타났으며, 정확도는 0.501이 나왔다."
      ],
      "metadata": {
        "id": "mLM7jxSCsLU0"
      }
    },
    {
      "cell_type": "code",
      "source": [
        "from sklearn.model_selection import cross_val_score\n",
        "\n",
        "# 교차 검증을 10번 수행하여 10번의 교차 검증 평균 정확도를 비교 (10-fold cross validation)\n",
        "# default cv=5\n",
        "\n",
        "dt_scores = cross_val_score(tree, X_train, y_train, cv=10, scoring='accuracy')  \n",
        "rf_scores = cross_val_score(forest, X_train, y_train, cv=10, scoring='accuracy')\n",
        "\n",
        "print(\"Accuracy\")\n",
        "print(\"Decision tree: \", dt_scores) \n",
        "print(\"Random forest: \", rf_scores) \n",
        "\n",
        "print(\"Accuracy mean\")\n",
        "print(\"Decision tree :{:.3f}\".format(dt_scores.mean())) \n",
        "print(\"Random forest :{:.3f}\".format(rf_scores.mean())) "
      ],
      "metadata": {
        "colab": {
          "base_uri": "https://localhost:8080/"
        },
        "id": "HGz16Rpt-Kxh",
        "outputId": "a99772fa-7911-4601-9f64-de5250eaef71"
      },
      "execution_count": null,
      "outputs": [
        {
          "output_type": "stream",
          "name": "stdout",
          "text": [
            "Accuracy\n",
            "Decision tree:  [0.35546875 0.3984375  0.42578125 0.34375    0.34375    0.33203125\n",
            " 0.35686275 0.43529412 0.40784314 0.34117647]\n",
            "Random forest:  [0.46484375 0.5        0.49609375 0.47265625 0.55859375 0.546875\n",
            " 0.45490196 0.50196078 0.47843137 0.46666667]\n",
            "Accuracy mean\n",
            "Decision tree :0.374\n",
            "Random forest :0.494\n"
          ]
        }
      ]
    },
    {
      "cell_type": "code",
      "source": [
        "cv_list = [    \n",
        "            ['decision_tree',dt_scores],\n",
        "            ['random_forest',rf_scores],\n",
        "          ]\n",
        "df_cv = pd.DataFrame.from_dict(dict(cv_list))\n",
        "df_cv.plot()"
      ],
      "metadata": {
        "colab": {
          "base_uri": "https://localhost:8080/",
          "height": 392
        },
        "id": "OTmT8SoF-O5B",
        "outputId": "9f9cb9af-46ec-4559-dbe2-c336d4427a1e"
      },
      "execution_count": null,
      "outputs": [
        {
          "output_type": "execute_result",
          "data": {
            "text/plain": [
              "<matplotlib.axes._subplots.AxesSubplot at 0x7f28a691f890>"
            ]
          },
          "metadata": {},
          "execution_count": 98
        },
        {
          "output_type": "display_data",
          "data": {
            "text/plain": [
              "<Figure size 648x432 with 1 Axes>"
            ],
            "image/png": "[encoded data removed]"
          },
          "metadata": {
            "needs_background": "light"
          }
        }
      ]
    },
    {
      "cell_type": "markdown",
      "source": [
        "교차 검증을 10번 실행하여 평균 정확도를 비교해본 결과, 랜덤포레스트를 사용하여 예측한 결과가 Decision tree를 사용해서 예측한 결과보다 좀 더 정확하게 나옴을 확일할 수 있다."
      ],
      "metadata": {
        "id": "3yltE7gRs20k"
      }
    },
    {
      "cell_type": "code",
      "source": [
        "from sklearn.ensemble import GradientBoostingClassifier\n",
        "#  max_depth= 3, n_estimators=100, learning_rate = 0.1\n",
        "\n",
        "gbrt = GradientBoostingClassifier(random_state=0)\n",
        "gbrt.fit(X_train, y_train)"
      ],
      "metadata": {
        "colab": {
          "base_uri": "https://localhost:8080/"
        },
        "id": "R6ZRvDjQ-VHF",
        "outputId": "e4539821-b0c7-42d6-f1b9-5b28441252f8"
      },
      "execution_count": null,
      "outputs": [
        {
          "output_type": "execute_result",
          "data": {
            "text/plain": [
              "GradientBoostingClassifier(random_state=0)"
            ]
          },
          "metadata": {},
          "execution_count": 99
        }
      ]
    },
    {
      "cell_type": "code",
      "source": [
        "print(\"학습용 데이터 세트 정확도: {:.3f}\".format(gbrt.score(X_train, y_train)))\n",
        "print(\"시험용 데이터 세트 정확도: {:.3f}\".format(gbrt.score(X_test, y_test)))"
      ],
      "metadata": {
        "colab": {
          "base_uri": "https://localhost:8080/"
        },
        "id": "n8qvqLrs-YEK",
        "outputId": "e7349c6c-3b79-4e4a-ef29-51373b6d6b82"
      },
      "execution_count": null,
      "outputs": [
        {
          "output_type": "stream",
          "name": "stdout",
          "text": [
            "학습용 데이터 세트 정확도: 0.643\n",
            "시험용 데이터 세트 정확도: 0.486\n"
          ]
        }
      ]
    },
    {
      "cell_type": "code",
      "source": [
        "plot_feature_importances_df(gbrt)"
      ],
      "metadata": {
        "colab": {
          "base_uri": "https://localhost:8080/",
          "height": 388
        },
        "id": "PkXOCRKj-aMV",
        "outputId": "f5a58227-bcbe-4154-dd55-1bb77f190b05"
      },
      "execution_count": null,
      "outputs": [
        {
          "output_type": "display_data",
          "data": {
            "text/plain": [
              "<Figure size 648x432 with 1 Axes>"
            ],
            "image/png": "[encoded data removed]"
          },
          "metadata": {
            "needs_background": "light"
          }
        }
      ]
    },
    {
      "cell_type": "code",
      "source": [
        "#나무 깊이 제한\n",
        "gbrt = GradientBoostingClassifier(random_state=0, max_depth=4)\n",
        "gbrt.fit(X_train, y_train)\n",
        "\n",
        "print(\"학습 데이터 세트 정확도: {:.3f}\".format(gbrt.score(X_train, y_train)))\n",
        "print(\"시험용 데이터 세트 정확도: {:.3f}\".format(gbrt.score(X_test, y_test)))"
      ],
      "metadata": {
        "colab": {
          "base_uri": "https://localhost:8080/"
        },
        "id": "eNhvj5Ep_N2L",
        "outputId": "ab0633b4-182b-449a-e3f8-3b2dd2acb664"
      },
      "execution_count": null,
      "outputs": [
        {
          "output_type": "stream",
          "name": "stdout",
          "text": [
            "학습 데이터 세트 정확도: 0.764\n",
            "시험용 데이터 세트 정확도: 0.495\n"
          ]
        }
      ]
    },
    {
      "cell_type": "code",
      "source": [
        "#학습률 감소\n",
        "gbrt = GradientBoostingClassifier(random_state=0, learning_rate=0.01)\n",
        "gbrt.fit(X_train, y_train)\n",
        "\n",
        "print(\"학습 데이터 세트 정확도: {:.3f}\".format(gbrt.score(X_train, y_train)))\n",
        "print(\"시험용 데이터 세트 정확도: {:.3f}\".format(gbrt.score(X_test, y_test)))"
      ],
      "metadata": {
        "colab": {
          "base_uri": "https://localhost:8080/"
        },
        "id": "BUNTooMs_SZ9",
        "outputId": "298916bc-9960-47bf-945b-95683751fd73"
      },
      "execution_count": null,
      "outputs": [
        {
          "output_type": "stream",
          "name": "stdout",
          "text": [
            "학습 데이터 세트 정확도: 0.549\n",
            "시험용 데이터 세트 정확도: 0.516\n"
          ]
        }
      ]
    },
    {
      "cell_type": "markdown",
      "source": [
        "## 검증"
      ],
      "metadata": {
        "id": "48kxv6iAtYlZ"
      }
    },
    {
      "cell_type": "code",
      "source": [
        "# 교차 검증을 10번 수행하여 10번의 교차 검증 평균 정확도를 비교 (10-fold cross validation)\n",
        "# default cv=5\n",
        "\n",
        "dt_scores = cross_val_score(tree, X_train, y_train, cv=10, scoring='accuracy')  \n",
        "rf_scores = cross_val_score(forest, X_train, y_train, cv=10, scoring='accuracy')\n",
        "gbrt_scores = cross_val_score(gbrt, X_train, y_train, cv=10, scoring='accuracy')\n",
        "\n",
        "print(\"Accuracy\")\n",
        "print(\"Decision tree: \", dt_scores) \n",
        "print(\"Random forest: \", rf_scores) \n",
        "print(\"Gradient boosting: \", gbrt_scores) \n",
        "\n",
        "print(\"Accuracy mean\")\n",
        "print(\"Decision tree :{:.3f}\".format(dt_scores.mean())) \n",
        "print(\"Random forest :{:.3f}\".format(rf_scores.mean())) \n",
        "print(\"Gradient boosting :{:.3f}\".format(gbrt_scores.mean())) "
      ],
      "metadata": {
        "colab": {
          "base_uri": "https://localhost:8080/"
        },
        "id": "2bDI7DvI_ZyZ",
        "outputId": "7c37cd66-2b9a-492c-984e-cd696428e6e4"
      },
      "execution_count": null,
      "outputs": [
        {
          "output_type": "stream",
          "name": "stdout",
          "text": [
            "Accuracy\n",
            "Decision tree:  [0.35546875 0.3984375  0.42578125 0.34375    0.34375    0.33203125\n",
            " 0.35686275 0.43529412 0.40784314 0.34117647]\n",
            "Random forest:  [0.46484375 0.5        0.49609375 0.47265625 0.55859375 0.546875\n",
            " 0.45490196 0.50196078 0.47843137 0.46666667]\n",
            "Gradient boosting:  [0.48046875 0.51953125 0.515625   0.48046875 0.55859375 0.5546875\n",
            " 0.47843137 0.53333333 0.50196078 0.49411765]\n",
            "Accuracy mean\n",
            "Decision tree :0.374\n",
            "Random forest :0.494\n",
            "Gradient boosting :0.512\n"
          ]
        }
      ]
    },
    {
      "cell_type": "markdown",
      "source": [
        "3개의 모델을 10번 교차 검증한 결과, Gradient boosting의 평균 정확도가 3개의 모델 중 가장 정확하게 나왔으며, Random forest가 2위, Decision tree가 3위의 예측정확도를 보였다."
      ],
      "metadata": {
        "id": "DsbLDUVHtaPV"
      }
    },
    {
      "cell_type": "code",
      "source": [
        "\n",
        "from sklearn.model_selection import StratifiedKFold\n",
        "kf = StratifiedKFold(n_splits=10)\n",
        "\n",
        "print(kf)\n",
        "\n",
        "dt_scores = cross_val_score(tree, X_train, y_train, cv=kf, scoring='accuracy')  \n",
        "rf_scores = cross_val_score(forest, X_train, y_train, cv=kf, scoring='accuracy')\n",
        "gbrt_scores = cross_val_score(gbrt, X_train, y_train, cv=kf, scoring='accuracy')\n",
        "\n",
        "print(\"Accuracy mean -- StratifiedKFold 이용\")\n",
        "print(\"Decision tree :{:.3f}\".format(dt_scores.mean())) \n",
        "print(\"Random forest :{:.3f}\".format(rf_scores.mean())) \n",
        "print(\"Gradient boosting :{:.3f}\".format(gbrt_scores.mean())) "
      ],
      "metadata": {
        "colab": {
          "base_uri": "https://localhost:8080/"
        },
        "id": "aCha4oQ1_jaV",
        "outputId": "d72324f1-3ad5-4fab-8959-0e4387ef0d27"
      },
      "execution_count": null,
      "outputs": [
        {
          "output_type": "stream",
          "name": "stdout",
          "text": [
            "StratifiedKFold(n_splits=10, random_state=None, shuffle=False)\n",
            "Accuracy mean -- StratifiedKFold 이용\n",
            "Decision tree :0.374\n",
            "Random forest :0.494\n",
            "Gradient boosting :0.512\n"
          ]
        }
      ]
    },
    {
      "cell_type": "markdown",
      "source": [
        "그리드 서치"
      ],
      "metadata": {
        "id": "s8FXexqz_ubM"
      }
    },
    {
      "cell_type": "code",
      "source": [
        "from sklearn.model_selection import GridSearchCV\n",
        "\n",
        "# 파라미터를 dictionary 형태로 설정\n",
        "parameters = {'max_depth':[1,2,3,4], 'learning_rate':[0.1,0.08, 0.06, 0.04, 0.02]}"
      ],
      "metadata": {
        "id": "0rOiRSDc_t7_"
      },
      "execution_count": null,
      "outputs": []
    },
    {
      "cell_type": "code",
      "source": [
        "# param_grid의 파라미터들을 3개의 fold 로 나누어 검증\n",
        "# refit=True (기본값): 가장 좋은 파라미터 설정으로 재학습  \n",
        "init_gbrt = GradientBoostingClassifier(random_state=0)\n",
        "grid_gbrt = GridSearchCV(init_gbrt, param_grid=parameters, cv=3, refit=True)\n",
        "print(grid_gbrt)\n",
        "# 파라미터들을 순차적으로 학습, 검증\n",
        "grid_gbrt.fit(X_train, y_train)\n",
        "\n",
        "# GridSearchCV 결과 추출하여 DataFrame으로 변환\n",
        "scores_df = pd.DataFrame(grid_gbrt.cv_results_)\n",
        "scores_df[[ 'mean_test_score', 'rank_test_score', 'split0_test_score', 'split1_test_score', 'split2_test_score']]"
      ],
      "metadata": {
        "colab": {
          "base_uri": "https://localhost:8080/",
          "height": 795
        },
        "id": "G7TMeRMs_0gZ",
        "outputId": "d1752db6-b3df-4c0c-ec63-2565bcbaaaaa"
      },
      "execution_count": null,
      "outputs": [
        {
          "output_type": "stream",
          "name": "stdout",
          "text": [
            "GridSearchCV(cv=3, estimator=GradientBoostingClassifier(random_state=0),\n",
            "             param_grid={'learning_rate': [0.1, 0.08, 0.06, 0.04, 0.02],\n",
            "                         'max_depth': [1, 2, 3, 4]})\n"
          ]
        },
        {
          "output_type": "execute_result",
          "data": {
            "text/plain": [
              "    mean_test_score  rank_test_score  split0_test_score  split1_test_score  \\\n",
              "0          0.507042                6           0.503521           0.530516   \n",
              "1          0.503130               14           0.497653           0.530516   \n",
              "2          0.485915               18           0.477700           0.503521   \n",
              "3          0.484351               20           0.476526           0.504695   \n",
              "4          0.507433                4           0.503521           0.530516   \n",
              "5          0.505477               11           0.497653           0.522300   \n",
              "6          0.491784               17           0.488263           0.507042   \n",
              "7          0.484742               19           0.483568           0.496479   \n",
              "8          0.510172                3           0.515258           0.525822   \n",
              "9          0.503521               13           0.495305           0.529343   \n",
              "10         0.505869               10           0.507042           0.517606   \n",
              "11         0.494523               16           0.490610           0.514085   \n",
              "12         0.515258                1           0.521127           0.528169   \n",
              "13         0.506651                7           0.500000           0.526995   \n",
              "14         0.504695               12           0.507042           0.519953   \n",
              "15         0.498826               15           0.504695           0.512911   \n",
              "16         0.506260                8           0.512911           0.526995   \n",
              "17         0.512520                2           0.504695           0.537559   \n",
              "18         0.506260                8           0.504695           0.525822   \n",
              "19         0.507433                4           0.510563           0.519953   \n",
              "\n",
              "    split2_test_score  \n",
              "0            0.487089  \n",
              "1            0.481221  \n",
              "2            0.476526  \n",
              "3            0.471831  \n",
              "4            0.488263  \n",
              "5            0.496479  \n",
              "6            0.480047  \n",
              "7            0.474178  \n",
              "8            0.489437  \n",
              "9            0.485915  \n",
              "10           0.492958  \n",
              "11           0.478873  \n",
              "12           0.496479  \n",
              "13           0.492958  \n",
              "14           0.487089  \n",
              "15           0.478873  \n",
              "16           0.478873  \n",
              "17           0.495305  \n",
              "18           0.488263  \n",
              "19           0.491784  "
            ],
            "text/html": [
              "\n",
              "  <div id=\"df-225ba594-fea4-4d95-a0d6-250be434528f\">\n",
              "    <div class=\"colab-df-container\">\n",
              "      <div>\n",
              "<style scoped>\n",
              "    .dataframe tbody tr th:only-of-type {\n",
              "        vertical-align: middle;\n",
              "    }\n",
              "\n",
              "    .dataframe tbody tr th {\n",
              "        vertical-align: top;\n",
              "    }\n",
              "\n",
              "    .dataframe thead th {\n",
              "        text-align: right;\n",
              "    }\n",
              "</style>\n",
              "<table border=\"1\" class=\"dataframe\">\n",
              "  <thead>\n",
              "    <tr style=\"text-align: right;\">\n",
              "      <th></th>\n",
              "      <th>mean_test_score</th>\n",
              "      <th>rank_test_score</th>\n",
              "      <th>split0_test_score</th>\n",
              "      <th>split1_test_score</th>\n",
              "      <th>split2_test_score</th>\n",
              "    </tr>\n",
              "  </thead>\n",
              "  <tbody>\n",
              "    <tr>\n",
              "      <th>0</th>\n",
              "      <td>0.507042</td>\n",
              "      <td>6</td>\n",
              "      <td>0.503521</td>\n",
              "      <td>0.530516</td>\n",
              "      <td>0.487089</td>\n",
              "    </tr>\n",
              "    <tr>\n",
              "      <th>1</th>\n",
              "      <td>0.503130</td>\n",
              "      <td>14</td>\n",
              "      <td>0.497653</td>\n",
              "      <td>0.530516</td>\n",
              "      <td>0.481221</td>\n",
              "    </tr>\n",
              "    <tr>\n",
              "      <th>2</th>\n",
              "      <td>0.485915</td>\n",
              "      <td>18</td>\n",
              "      <td>0.477700</td>\n",
              "      <td>0.503521</td>\n",
              "      <td>0.476526</td>\n",
              "    </tr>\n",
              "    <tr>\n",
              "      <th>3</th>\n",
              "      <td>0.484351</td>\n",
              "      <td>20</td>\n",
              "      <td>0.476526</td>\n",
              "      <td>0.504695</td>\n",
              "      <td>0.471831</td>\n",
              "    </tr>\n",
              "    <tr>\n",
              "      <th>4</th>\n",
              "      <td>0.507433</td>\n",
              "      <td>4</td>\n",
              "      <td>0.503521</td>\n",
              "      <td>0.530516</td>\n",
              "      <td>0.488263</td>\n",
              "    </tr>\n",
              "    <tr>\n",
              "      <th>5</th>\n",
              "      <td>0.505477</td>\n",
              "      <td>11</td>\n",
              "      <td>0.497653</td>\n",
              "      <td>0.522300</td>\n",
              "      <td>0.496479</td>\n",
              "    </tr>\n",
              "    <tr>\n",
              "      <th>6</th>\n",
              "      <td>0.491784</td>\n",
              "      <td>17</td>\n",
              "      <td>0.488263</td>\n",
              "      <td>0.507042</td>\n",
              "      <td>0.480047</td>\n",
              "    </tr>\n",
              "    <tr>\n",
              "      <th>7</th>\n",
              "      <td>0.484742</td>\n",
              "      <td>19</td>\n",
              "      <td>0.483568</td>\n",
              "      <td>0.496479</td>\n",
              "      <td>0.474178</td>\n",
              "    </tr>\n",
              "    <tr>\n",
              "      <th>8</th>\n",
              "      <td>0.510172</td>\n",
              "      <td>3</td>\n",
              "      <td>0.515258</td>\n",
              "      <td>0.525822</td>\n",
              "      <td>0.489437</td>\n",
              "    </tr>\n",
              "    <tr>\n",
              "      <th>9</th>\n",
              "      <td>0.503521</td>\n",
              "      <td>13</td>\n",
              "      <td>0.495305</td>\n",
              "      <td>0.529343</td>\n",
              "      <td>0.485915</td>\n",
              "    </tr>\n",
              "    <tr>\n",
              "      <th>10</th>\n",
              "      <td>0.505869</td>\n",
              "      <td>10</td>\n",
              "      <td>0.507042</td>\n",
              "      <td>0.517606</td>\n",
              "      <td>0.492958</td>\n",
              "    </tr>\n",
              "    <tr>\n",
              "      <th>11</th>\n",
              "      <td>0.494523</td>\n",
              "      <td>16</td>\n",
              "      <td>0.490610</td>\n",
              "      <td>0.514085</td>\n",
              "      <td>0.478873</td>\n",
              "    </tr>\n",
              "    <tr>\n",
              "      <th>12</th>\n",
              "      <td>0.515258</td>\n",
              "      <td>1</td>\n",
              "      <td>0.521127</td>\n",
              "      <td>0.528169</td>\n",
              "      <td>0.496479</td>\n",
              "    </tr>\n",
              "    <tr>\n",
              "      <th>13</th>\n",
              "      <td>0.506651</td>\n",
              "      <td>7</td>\n",
              "      <td>0.500000</td>\n",
              "      <td>0.526995</td>\n",
              "      <td>0.492958</td>\n",
              "    </tr>\n",
              "    <tr>\n",
              "      <th>14</th>\n",
              "      <td>0.504695</td>\n",
              "      <td>12</td>\n",
              "      <td>0.507042</td>\n",
              "      <td>0.519953</td>\n",
              "      <td>0.487089</td>\n",
              "    </tr>\n",
              "    <tr>\n",
              "      <th>15</th>\n",
              "      <td>0.498826</td>\n",
              "      <td>15</td>\n",
              "      <td>0.504695</td>\n",
              "      <td>0.512911</td>\n",
              "      <td>0.478873</td>\n",
              "    </tr>\n",
              "    <tr>\n",
              "      <th>16</th>\n",
              "      <td>0.506260</td>\n",
              "      <td>8</td>\n",
              "      <td>0.512911</td>\n",
              "      <td>0.526995</td>\n",
              "      <td>0.478873</td>\n",
              "    </tr>\n",
              "    <tr>\n",
              "      <th>17</th>\n",
              "      <td>0.512520</td>\n",
              "      <td>2</td>\n",
              "      <td>0.504695</td>\n",
              "      <td>0.537559</td>\n",
              "      <td>0.495305</td>\n",
              "    </tr>\n",
              "    <tr>\n",
              "      <th>18</th>\n",
              "      <td>0.506260</td>\n",
              "      <td>8</td>\n",
              "      <td>0.504695</td>\n",
              "      <td>0.525822</td>\n",
              "      <td>0.488263</td>\n",
              "    </tr>\n",
              "    <tr>\n",
              "      <th>19</th>\n",
              "      <td>0.507433</td>\n",
              "      <td>4</td>\n",
              "      <td>0.510563</td>\n",
              "      <td>0.519953</td>\n",
              "      <td>0.491784</td>\n",
              "    </tr>\n",
              "  </tbody>\n",
              "</table>\n",
              "</div>\n",
              "      <button class=\"colab-df-convert\" onclick=\"convertToInteractive('df-225ba594-fea4-4d95-a0d6-250be434528f')\"\n",
              "              title=\"Convert this dataframe to an interactive table.\"\n",
              "              style=\"display:none;\">\n",
              "        \n",
              "  <svg xmlns=\"http://www.w3.org/2000/svg\" height=\"24px\"viewBox=\"0 0 24 24\"\n",
              "       width=\"24px\">\n",
              "    <path d=\"M0 0h24v24H0V0z\" fill=\"none\"/>\n",
              "    <path d=\"M18.56 5.44l.94 2.06.94-2.06 2.06-.94-2.06-.94-.94-2.06-.94 2.06-2.06.94zm-11 1L8.5 8.5l.94-2.06 2.06-.94-2.06-.94L8.5 2.5l-.94 2.06-2.06.94zm10 10l.94 2.06.94-2.06 2.06-.94-2.06-.94-.94-2.06-.94 2.06-2.06.94z\"/><path d=\"M17.41 7.96l-1.37-1.37c-.4-.4-.92-.59-1.43-.59-.52 0-1.04.2-1.43.59L10.3 9.45l-7.72 7.72c-.78.78-.78 2.05 0 2.83L4 21.41c.39.39.9.59 1.41.59.51 0 1.02-.2 1.41-.59l7.78-7.78 2.81-2.81c.8-.78.8-2.07 0-2.86zM5.41 20L4 18.59l7.72-7.72 1.47 1.35L5.41 20z\"/>\n",
              "  </svg>\n",
              "      </button>\n",
              "      \n",
              "  <style>\n",
              "    .colab-df-container {\n",
              "      display:flex;\n",
              "      flex-wrap:wrap;\n",
              "      gap: 12px;\n",
              "    }\n",
              "\n",
              "    .colab-df-convert {\n",
              "      background-color: #E8F0FE;\n",
              "      border: none;\n",
              "      border-radius: 50%;\n",
              "      cursor: pointer;\n",
              "      display: none;\n",
              "      fill: #1967D2;\n",
              "      height: 32px;\n",
              "      padding: 0 0 0 0;\n",
              "      width: 32px;\n",
              "    }\n",
              "\n",
              "    .colab-df-convert:hover {\n",
              "      background-color: #E2EBFA;\n",
              "      box-shadow: 0px 1px 2px rgba(60, 64, 67, 0.3), 0px 1px 3px 1px rgba(60, 64, 67, 0.15);\n",
              "      fill: #174EA6;\n",
              "    }\n",
              "\n",
              "    [theme=dark] .colab-df-convert {\n",
              "      background-color: #3B4455;\n",
              "      fill: #D2E3FC;\n",
              "    }\n",
              "\n",
              "    [theme=dark] .colab-df-convert:hover {\n",
              "      background-color: #434B5C;\n",
              "      box-shadow: 0px 1px 3px 1px rgba(0, 0, 0, 0.15);\n",
              "      filter: drop-shadow(0px 1px 2px rgba(0, 0, 0, 0.3));\n",
              "      fill: #FFFFFF;\n",
              "    }\n",
              "  </style>\n",
              "\n",
              "      <script>\n",
              "        const buttonEl =\n",
              "          document.querySelector('#df-225ba594-fea4-4d95-a0d6-250be434528f button.colab-df-convert');\n",
              "        buttonEl.style.display =\n",
              "          google.colab.kernel.accessAllowed ? 'block' : 'none';\n",
              "\n",
              "        async function convertToInteractive(key) {\n",
              "          const element = document.querySelector('#df-225ba594-fea4-4d95-a0d6-250be434528f');\n",
              "          const dataTable =\n",
              "            await google.colab.kernel.invokeFunction('convertToInteractive',\n",
              "                                                     [key], {});\n",
              "          if (!dataTable) return;\n",
              "\n",
              "          const docLinkHtml = 'Like what you see? Visit the ' +\n",
              "            '<a target=\"_blank\" href=https://colab.research.google.com/notebooks/data_table.ipynb>data table notebook</a>'\n",
              "            + ' to learn more about interactive tables.';\n",
              "          element.innerHTML = '';\n",
              "          dataTable['output_type'] = 'display_data';\n",
              "          await google.colab.output.renderOutput(dataTable, element);\n",
              "          const docLink = document.createElement('div');\n",
              "          docLink.innerHTML = docLinkHtml;\n",
              "          element.appendChild(docLink);\n",
              "        }\n",
              "      </script>\n",
              "    </div>\n",
              "  </div>\n",
              "  "
            ]
          },
          "metadata": {},
          "execution_count": 109
        }
      ]
    },
    {
      "cell_type": "code",
      "source": [
        "print('GridSearchCV 최적 파라미터:', grid_gbrt.best_params_)\n",
        "print('GridSearchCV 최고 정확도: {0:.4f}'.format(grid_gbrt.best_score_))"
      ],
      "metadata": {
        "colab": {
          "base_uri": "https://localhost:8080/"
        },
        "id": "vkAXIvPFj1qN",
        "outputId": "508c241b-1883-4d26-c605-a097115555ca"
      },
      "execution_count": null,
      "outputs": [
        {
          "output_type": "stream",
          "name": "stdout",
          "text": [
            "GridSearchCV 최적 파라미터: {'learning_rate': 0.04, 'max_depth': 1}\n",
            "GridSearchCV 최고 정확도: 0.5153\n"
          ]
        }
      ]
    },
    {
      "cell_type": "markdown",
      "source": [
        "그래디언트 부스팅 모델의 MAX_DEPTH 가 1 이고 learning rate가 0.04 일때 가장 높은 정확도인 0.5153을 나타낸다.  "
      ],
      "metadata": {
        "id": "i7uQqFIRwVLU"
      }
    },
    {
      "cell_type": "code",
      "source": [
        "# 최적 파라미터로 학습이 된 모델을 이용하여 시험용 데이터 세트 분류\n",
        "print(\"시험용 데이터 세트 정확도: {:.3f}\".format(grid_gbrt.score(X_test, y_test)))"
      ],
      "metadata": {
        "colab": {
          "base_uri": "https://localhost:8080/"
        },
        "id": "oZLT1iz0j36O",
        "outputId": "1ba26a92-77f0-4eb4-a3f4-93c0f73c1e6e"
      },
      "execution_count": null,
      "outputs": [
        {
          "output_type": "stream",
          "name": "stdout",
          "text": [
            "시험용 데이터 세트 정확도: 0.507\n"
          ]
        }
      ]
    },
    {
      "cell_type": "code",
      "source": [
        "from sklearn.metrics import accuracy_score, precision_score, recall_score, f1_score\n",
        "from sklearn.metrics import confusion_matrix \n",
        "\n",
        "print(y_test.value_counts()) # y_test 의 B,M 분포\n",
        "\n",
        "\n",
        "rf_pred = forest.predict(X_test)\n",
        "grid_gbrt_pred = grid_gbrt.predict(X_test)\n",
        "\n",
        "# 예측 결과인 pred와 실제 결과인 y_test의 Confusion Matrix 출력\n",
        "\n",
        "print('Random forest 시험용 데이터 세트 정확도:{:.3f}'.format(accuracy_score(y_test, rf_pred)))\n",
        "print(confusion_matrix(y_test, rf_pred))\n",
        "print('Gradient boosting 시험용 데이터 세트 정확도:{:.3f}'.format(accuracy_score(y_test, grid_gbrt_pred)))\n",
        "print(confusion_matrix(y_test, grid_gbrt_pred))"
      ],
      "metadata": {
        "colab": {
          "base_uri": "https://localhost:8080/"
        },
        "id": "WT7KiS3kkDux",
        "outputId": "82d252f4-273c-4869-92a6-630cbb18aa6e"
      },
      "execution_count": null,
      "outputs": [
        {
          "output_type": "stream",
          "name": "stdout",
          "text": [
            "1    324\n",
            "3    319\n",
            "2    168\n",
            "0     41\n",
            "Name: BMI, dtype: int64\n",
            "Random forest 시험용 데이터 세트 정확도:0.501\n",
            "[[  0  30   3   8]\n",
            " [  1 214  14  95]\n",
            " [  0  79  11  78]\n",
            " [  0  98  19 202]]\n",
            "Gradient boosting 시험용 데이터 세트 정확도:0.507\n",
            "[[  0  35   0   6]\n",
            " [  0 220   1 103]\n",
            " [  0  81   0  87]\n",
            " [  0 107   0 212]]\n"
          ]
        }
      ]
    },
    {
      "cell_type": "markdown",
      "source": [
        "위에서 가장 정확도가 낮았던 DecitionTree를 제외하고 RandomForest Tree와 Gradient boosting의 testdata set에서의 정확도를 비교해 보았다.\n",
        "\n",
        "그 결과, Gradient boosting의 시험용 데이터 세트 정확도가 더 높게 나타났다. \n"
      ],
      "metadata": {
        "id": "Lw5Q0uQHxAMs"
      }
    },
    {
      "cell_type": "code",
      "source": [
        "print('정밀도:{:.3f}'.format(precision_score (y_test, grid_gbrt_pred, average='weighted', pos_label=\"M\")))  # pos_label = 1 기본값\n",
        "print('TP (49) / TP+FP (52) = {:.3f}'.format(49/52))\n",
        "print('재현율:{:.3f}'.format(recall_score(y_test, grid_gbrt_pred, average='weighted', pos_label=\"M\")))\n",
        "print('TP (49) / TP+FN (51) = {:.3f}'.format(49/51))\n",
        "print('f1-measure:{:.3f}'.format(f1_score(y_test, grid_gbrt_pred, average='weighted', pos_label=\"M\")))\n",
        "print('2*(정밀도*재현율)/(정밀도+재현율) = {:.3f}'.format(2*0.942*0.961/(0.942+0.961)))"
      ],
      "metadata": {
        "colab": {
          "base_uri": "https://localhost:8080/"
        },
        "id": "Ydw-NVQ4FHLj",
        "outputId": "fd7b30a6-b168-4d0f-b952-8a60451f641d"
      },
      "execution_count": null,
      "outputs": [
        {
          "output_type": "stream",
          "name": "stdout",
          "text": [
            "정밀도:0.383\n",
            "TP (49) / TP+FP (52) = 0.942\n",
            "재현율:0.507\n",
            "TP (49) / TP+FN (51) = 0.961\n",
            "f1-measure:0.437\n",
            "2*(정밀도*재현율)/(정밀도+재현율) = 0.951\n"
          ]
        },
        {
          "output_type": "stream",
          "name": "stderr",
          "text": [
            "/usr/local/lib/python3.7/dist-packages/sklearn/metrics/_classification.py:1375: UserWarning: Note that pos_label (set to 'M') is ignored when average != 'binary' (got 'weighted'). You may use labels=[pos_label] to specify a single positive class.\n",
            "  UserWarning,\n",
            "/usr/local/lib/python3.7/dist-packages/sklearn/metrics/_classification.py:1318: UndefinedMetricWarning: Precision is ill-defined and being set to 0.0 in labels with no predicted samples. Use `zero_division` parameter to control this behavior.\n",
            "  _warn_prf(average, modifier, msg_start, len(result))\n",
            "/usr/local/lib/python3.7/dist-packages/sklearn/metrics/_classification.py:1375: UserWarning: Note that pos_label (set to 'M') is ignored when average != 'binary' (got 'weighted'). You may use labels=[pos_label] to specify a single positive class.\n",
            "  UserWarning,\n",
            "/usr/local/lib/python3.7/dist-packages/sklearn/metrics/_classification.py:1375: UserWarning: Note that pos_label (set to 'M') is ignored when average != 'binary' (got 'weighted'). You may use labels=[pos_label] to specify a single positive class.\n",
            "  UserWarning,\n"
          ]
        }
      ]
    },
    {
      "cell_type": "code",
      "source": [
        "from sklearn.metrics import classification_report\n",
        "\n",
        "# 각 클래스가 Positive일 때의 정밀도, 재현율, f1 값을 보여줌 (\"M\"이 Postivit인 경우가 기본값임)\n",
        "# macro avg는 클래스별 점수의 평균을 계산\n",
        "# weighted avg는 클래스의 샘플 수로 가중평균을 계산\n",
        "\n",
        "print(\"Random Forest:\")\n",
        "print(classification_report(y_test, rf_pred, target_names=[\"Low\", \"Normal\",\"Fat\",\"OverFat\"]))\n",
        "print(\"Gradient Boosting:\")\n",
        "print(classification_report(y_test, grid_gbrt_pred, target_names=[\"Low\", \"Normal\",\"Fat\",\"OverFat\"]))"
      ],
      "metadata": {
        "colab": {
          "base_uri": "https://localhost:8080/"
        },
        "id": "u68Miz05FWt-",
        "outputId": "882fb9fe-20f5-49e4-8d8f-9e904e9dd04b"
      },
      "execution_count": null,
      "outputs": [
        {
          "output_type": "stream",
          "name": "stdout",
          "text": [
            "Random Forest:\n",
            "              precision    recall  f1-score   support\n",
            "\n",
            "         Low       0.00      0.00      0.00        41\n",
            "      Normal       0.51      0.66      0.57       324\n",
            "         Fat       0.23      0.07      0.10       168\n",
            "     OverFat       0.53      0.63      0.58       319\n",
            "\n",
            "    accuracy                           0.50       852\n",
            "   macro avg       0.32      0.34      0.31       852\n",
            "weighted avg       0.44      0.50      0.45       852\n",
            "\n",
            "Gradient Boosting:\n",
            "              precision    recall  f1-score   support\n",
            "\n",
            "         Low       0.00      0.00      0.00        41\n",
            "      Normal       0.50      0.68      0.57       324\n",
            "         Fat       0.00      0.00      0.00       168\n",
            "     OverFat       0.52      0.66      0.58       319\n",
            "\n",
            "    accuracy                           0.51       852\n",
            "   macro avg       0.25      0.34      0.29       852\n",
            "weighted avg       0.38      0.51      0.44       852\n",
            "\n"
          ]
        },
        {
          "output_type": "stream",
          "name": "stderr",
          "text": [
            "/usr/local/lib/python3.7/dist-packages/sklearn/metrics/_classification.py:1318: UndefinedMetricWarning: Precision and F-score are ill-defined and being set to 0.0 in labels with no predicted samples. Use `zero_division` parameter to control this behavior.\n",
            "  _warn_prf(average, modifier, msg_start, len(result))\n",
            "/usr/local/lib/python3.7/dist-packages/sklearn/metrics/_classification.py:1318: UndefinedMetricWarning: Precision and F-score are ill-defined and being set to 0.0 in labels with no predicted samples. Use `zero_division` parameter to control this behavior.\n",
            "  _warn_prf(average, modifier, msg_start, len(result))\n",
            "/usr/local/lib/python3.7/dist-packages/sklearn/metrics/_classification.py:1318: UndefinedMetricWarning: Precision and F-score are ill-defined and being set to 0.0 in labels with no predicted samples. Use `zero_division` parameter to control this behavior.\n",
            "  _warn_prf(average, modifier, msg_start, len(result))\n"
          ]
        }
      ]
    },
    {
      "cell_type": "markdown",
      "source": [
        "\n",
        "- Decision Tree, Random Forest 보다 Max_depth : 1, learning rate 0.04 인 Gradient Boosting 모델로 분류하는 것이 더 정확하게 분류 가능하다.\n",
        "\n",
        "## 인사이트\n",
        "- BMI지수를 종속변수로, 독립변수는 BMI 지수 계산에 사용된 키와 몸무게, 몸무게와 밀접한 관계가 있는 waist를 제외한 변수들로 두어 BMI와 새로운 특징들의 연관성을 찾아보고자 하였다. \n",
        "- 정확도가 0.6을 넘는 test결과가 없는 것으로 보아 키와 몸무게가 아닌 다른 변수들 ( 해당 과제에서 독립변수로 설정한 변수들)은 BMI에 큰 영향을 미치지 못하는 것을 파악할 수 있었다.\n",
        "- 하지만, 그럼에도 BMI는 Weight와 Height, waist 외에 GAMMA, C_PRES, HDL의 영향을 받음을 밝힐 수 있다.\n",
        "- GAMMA는 감마지티피로 간기능을 나타내는 혈액 검사상의 수치이고, HDL은 세포에 이끌려간 콜레스테롤을 간으로 돌려주고 혈관 벽에 쌓인 나쁜 콜레스테롤을 없애는 역할을 하는 성분인데, 이를 통해 간의 기능과 간의 영양 상태가 BMI지수와 연관이 있음을 알 수 있다.\n",
        "- 흡연이 BMI 지수에 영향을 미치지 않을까라는 호기심에 분석을 해보았지만, 흡연과 BMI 지수를 연관이 매우 적음을 확인할 수 있었다."
      ],
      "metadata": {
        "id": "N2S_IOWcxXgw"
      }
    }
  ]
}